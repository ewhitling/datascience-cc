{
  "cells": [
    {
      "metadata": {
        "trusted": true
      },
      "cell_type": "code",
      "source": "import sqlite3\nimport pandas as pd\n\n# connect to the dataset\nmyDB = './data/cephalopod_RnD.db'\nconnection = sqlite3.connect(myDB)",
      "execution_count": 1,
      "outputs": []
    },
    {
      "metadata": {
        "trusted": true
      },
      "cell_type": "code",
      "source": "# read the data into a dataframe\nmySQL = \"SELECT * FROM spady_defense\" \ndf = pd.read_sql(mySQL, connection)\n\n# how many records?\nprint(len(df))",
      "execution_count": 2,
      "outputs": [
        {
          "output_type": "stream",
          "text": "87\n",
          "name": "stdout"
        }
      ]
    },
    {
      "metadata": {
        "trusted": true
      },
      "cell_type": "code",
      "source": "# print the top of the dataframe\ndf.head()",
      "execution_count": 3,
      "outputs": [
        {
          "output_type": "execute_result",
          "execution_count": 3,
          "data": {
            "text/html": "<div>\n<style scoped>\n    .dataframe tbody tr th:only-of-type {\n        vertical-align: middle;\n    }\n\n    .dataframe tbody tr th {\n        vertical-align: top;\n    }\n\n    .dataframe thead th {\n        text-align: right;\n    }\n</style>\n<table border=\"1\" class=\"dataframe\">\n  <thead>\n    <tr style=\"text-align: right;\">\n      <th></th>\n      <th>Treatment</th>\n      <th>LineCrosses</th>\n      <th>Active</th>\n      <th>TimetoReact</th>\n      <th>ReactionType</th>\n      <th>InkDischarge</th>\n      <th>BodyPattern</th>\n      <th>field8</th>\n      <th>field9</th>\n      <th>field10</th>\n      <th>field11</th>\n      <th>field12</th>\n    </tr>\n  </thead>\n  <tbody>\n    <tr>\n      <th>0</th>\n      <td>Control</td>\n      <td>0</td>\n      <td>rest</td>\n      <td>n/a</td>\n      <td>n/a</td>\n      <td>n/a</td>\n      <td>n/a</td>\n      <td>None</td>\n      <td>None</td>\n      <td>None</td>\n      <td>None</td>\n      <td>None</td>\n    </tr>\n    <tr>\n      <th>1</th>\n      <td>Control</td>\n      <td>0</td>\n      <td>rest</td>\n      <td>n/a</td>\n      <td>n/a</td>\n      <td>n/a</td>\n      <td>n/a</td>\n      <td>None</td>\n      <td>None</td>\n      <td>None</td>\n      <td>None</td>\n      <td>None</td>\n    </tr>\n    <tr>\n      <th>2</th>\n      <td>Control</td>\n      <td>65</td>\n      <td>high activity</td>\n      <td>n/a</td>\n      <td>n/a</td>\n      <td>n/a</td>\n      <td>n/a</td>\n      <td>None</td>\n      <td>None</td>\n      <td>None</td>\n      <td>None</td>\n      <td>None</td>\n    </tr>\n    <tr>\n      <th>3</th>\n      <td>Control</td>\n      <td>0</td>\n      <td>rest</td>\n      <td>n/a</td>\n      <td>n/a</td>\n      <td>n/a</td>\n      <td>n/a</td>\n      <td>None</td>\n      <td>None</td>\n      <td>None</td>\n      <td>None</td>\n      <td>None</td>\n    </tr>\n    <tr>\n      <th>4</th>\n      <td>Control</td>\n      <td>0</td>\n      <td>rest</td>\n      <td>n/a</td>\n      <td>n/a</td>\n      <td>n/a</td>\n      <td>n/a</td>\n      <td>None</td>\n      <td>None</td>\n      <td>None</td>\n      <td>None</td>\n      <td>None</td>\n    </tr>\n  </tbody>\n</table>\n</div>",
            "text/plain": "  Treatment  LineCrosses         Active TimetoReact ReactionType InkDischarge  \\\n0   Control            0           rest         n/a          n/a          n/a   \n1   Control            0           rest         n/a          n/a          n/a   \n2   Control           65  high activity         n/a          n/a          n/a   \n3   Control            0           rest         n/a          n/a          n/a   \n4   Control            0           rest         n/a          n/a          n/a   \n\n  BodyPattern field8 field9 field10 field11 field12  \n0         n/a   None   None    None    None    None  \n1         n/a   None   None    None    None    None  \n2         n/a   None   None    None    None    None  \n3         n/a   None   None    None    None    None  \n4         n/a   None   None    None    None    None  "
          },
          "metadata": {}
        }
      ]
    },
    {
      "metadata": {
        "trusted": true
      },
      "cell_type": "code",
      "source": "# print the tail\ndf.tail()",
      "execution_count": 4,
      "outputs": [
        {
          "output_type": "execute_result",
          "execution_count": 4,
          "data": {
            "text/html": "<div>\n<style scoped>\n    .dataframe tbody tr th:only-of-type {\n        vertical-align: middle;\n    }\n\n    .dataframe tbody tr th {\n        vertical-align: top;\n    }\n\n    .dataframe thead th {\n        text-align: right;\n    }\n</style>\n<table border=\"1\" class=\"dataframe\">\n  <thead>\n    <tr style=\"text-align: right;\">\n      <th></th>\n      <th>Treatment</th>\n      <th>LineCrosses</th>\n      <th>Active</th>\n      <th>TimetoReact</th>\n      <th>ReactionType</th>\n      <th>InkDischarge</th>\n      <th>BodyPattern</th>\n      <th>field8</th>\n      <th>field9</th>\n      <th>field10</th>\n      <th>field11</th>\n      <th>field12</th>\n    </tr>\n  </thead>\n  <tbody>\n    <tr>\n      <th>82</th>\n      <td>High</td>\n      <td>48</td>\n      <td>high activity</td>\n      <td>0.46666667</td>\n      <td>jet</td>\n      <td>yes</td>\n      <td>transparent</td>\n      <td>None</td>\n      <td>None</td>\n      <td>None</td>\n      <td>None</td>\n      <td>None</td>\n    </tr>\n    <tr>\n      <th>83</th>\n      <td>High</td>\n      <td>0</td>\n      <td>rest</td>\n      <td>0.53333333</td>\n      <td>jet</td>\n      <td>yes</td>\n      <td>n/a</td>\n      <td>None</td>\n      <td>None</td>\n      <td>None</td>\n      <td>None</td>\n      <td>None</td>\n    </tr>\n    <tr>\n      <th>84</th>\n      <td>High</td>\n      <td>0</td>\n      <td>rest</td>\n      <td>0.26666667</td>\n      <td>jet</td>\n      <td>yes</td>\n      <td>n/a</td>\n      <td>None</td>\n      <td>None</td>\n      <td>None</td>\n      <td>None</td>\n      <td>None</td>\n    </tr>\n    <tr>\n      <th>85</th>\n      <td>High</td>\n      <td>0</td>\n      <td>rest</td>\n      <td>0.53333333</td>\n      <td>jet</td>\n      <td>yes</td>\n      <td>no change</td>\n      <td>None</td>\n      <td>None</td>\n      <td>None</td>\n      <td>None</td>\n      <td>None</td>\n    </tr>\n    <tr>\n      <th>86</th>\n      <td>High</td>\n      <td>287</td>\n      <td>high activity</td>\n      <td>0.5</td>\n      <td>defence</td>\n      <td>no</td>\n      <td>no change</td>\n      <td>None</td>\n      <td>None</td>\n      <td>None</td>\n      <td>None</td>\n      <td>None</td>\n    </tr>\n  </tbody>\n</table>\n</div>",
            "text/plain": "   Treatment  LineCrosses         Active TimetoReact ReactionType  \\\n82      High           48  high activity  0.46666667          jet   \n83      High            0           rest  0.53333333          jet   \n84      High            0           rest  0.26666667          jet   \n85      High            0           rest  0.53333333          jet   \n86      High          287  high activity         0.5      defence   \n\n   InkDischarge  BodyPattern field8 field9 field10 field11 field12  \n82          yes  transparent   None   None    None    None    None  \n83          yes          n/a   None   None    None    None    None  \n84          yes          n/a   None   None    None    None    None  \n85          yes    no change   None   None    None    None    None  \n86           no    no change   None   None    None    None    None  "
          },
          "metadata": {}
        }
      ]
    },
    {
      "metadata": {
        "trusted": true
      },
      "cell_type": "code",
      "source": "# print the a random middlish row\nprint(df.loc[[44]])",
      "execution_count": 5,
      "outputs": [
        {
          "output_type": "stream",
          "text": "   Treatment  LineCrosses Active TimetoReact ReactionType InkDischarge  \\\n44       Mid            0   rest         0.5          jet          yes   \n\n    BodyPattern field8 field9 field10 field11 field12  \n44  transparent   None   None    None    None    None  \n",
          "name": "stdout"
        }
      ]
    },
    {
      "metadata": {
        "trusted": true
      },
      "cell_type": "code",
      "source": "# what are the datatypes?\nprint(df.dtypes)",
      "execution_count": 6,
      "outputs": [
        {
          "output_type": "stream",
          "text": "Treatment       object\nLineCrosses      int64\nActive          object\nTimetoReact     object\nReactionType    object\nInkDischarge    object\nBodyPattern     object\nfield8          object\nfield9          object\nfield10         object\nfield11         object\nfield12         object\ndtype: object\n",
          "name": "stdout"
        }
      ]
    },
    {
      "metadata": {
        "trusted": true
      },
      "cell_type": "code",
      "source": "# correct the TimetoReact to float\ndf['TimetoReact'] = pd.to_numeric(df['TimetoReact'])\nprint(df.dtypes)",
      "execution_count": 7,
      "outputs": [
        {
          "output_type": "error",
          "ename": "ValueError",
          "evalue": "Unable to parse string \"n/a\" at position 0",
          "traceback": [
            "\u001b[0;31m---------------------------------------------------------------------------\u001b[0m",
            "\u001b[0;31mValueError\u001b[0m                                Traceback (most recent call last)",
            "\u001b[0;32mpandas/_libs/src/inference.pyx\u001b[0m in \u001b[0;36mpandas._libs.lib.maybe_convert_numeric\u001b[0;34m()\u001b[0m\n",
            "\u001b[0;31mValueError\u001b[0m: Unable to parse string \"n/a\"",
            "\nDuring handling of the above exception, another exception occurred:\n",
            "\u001b[0;31mValueError\u001b[0m                                Traceback (most recent call last)",
            "\u001b[0;32m<ipython-input-7-3d0c7cb43a77>\u001b[0m in \u001b[0;36m<module>\u001b[0;34m\u001b[0m\n\u001b[1;32m      1\u001b[0m \u001b[0;31m# correct the TimetoReact to float\u001b[0m\u001b[0;34m\u001b[0m\u001b[0;34m\u001b[0m\u001b[0m\n\u001b[0;32m----> 2\u001b[0;31m \u001b[0mdf\u001b[0m\u001b[0;34m[\u001b[0m\u001b[0;34m'TimetoReact'\u001b[0m\u001b[0;34m]\u001b[0m \u001b[0;34m=\u001b[0m \u001b[0mpd\u001b[0m\u001b[0;34m.\u001b[0m\u001b[0mto_numeric\u001b[0m\u001b[0;34m(\u001b[0m\u001b[0mdf\u001b[0m\u001b[0;34m[\u001b[0m\u001b[0;34m'TimetoReact'\u001b[0m\u001b[0;34m]\u001b[0m\u001b[0;34m)\u001b[0m\u001b[0;34m\u001b[0m\u001b[0m\n\u001b[0m\u001b[1;32m      3\u001b[0m \u001b[0mprint\u001b[0m\u001b[0;34m(\u001b[0m\u001b[0mdf\u001b[0m\u001b[0;34m.\u001b[0m\u001b[0mdtypes\u001b[0m\u001b[0;34m)\u001b[0m\u001b[0;34m\u001b[0m\u001b[0m\n",
            "\u001b[0;32m~/anaconda3_501/lib/python3.6/site-packages/pandas/core/tools/numeric.py\u001b[0m in \u001b[0;36mto_numeric\u001b[0;34m(arg, errors, downcast)\u001b[0m\n\u001b[1;32m    131\u001b[0m             \u001b[0mcoerce_numeric\u001b[0m \u001b[0;34m=\u001b[0m \u001b[0;32mFalse\u001b[0m \u001b[0;32mif\u001b[0m \u001b[0merrors\u001b[0m \u001b[0;32min\u001b[0m \u001b[0;34m(\u001b[0m\u001b[0;34m'ignore'\u001b[0m\u001b[0;34m,\u001b[0m \u001b[0;34m'raise'\u001b[0m\u001b[0;34m)\u001b[0m \u001b[0;32melse\u001b[0m \u001b[0;32mTrue\u001b[0m\u001b[0;34m\u001b[0m\u001b[0m\n\u001b[1;32m    132\u001b[0m             values = lib.maybe_convert_numeric(values, set(),\n\u001b[0;32m--> 133\u001b[0;31m                                                coerce_numeric=coerce_numeric)\n\u001b[0m\u001b[1;32m    134\u001b[0m \u001b[0;34m\u001b[0m\u001b[0m\n\u001b[1;32m    135\u001b[0m     \u001b[0;32mexcept\u001b[0m \u001b[0mException\u001b[0m\u001b[0;34m:\u001b[0m\u001b[0;34m\u001b[0m\u001b[0m\n",
            "\u001b[0;32mpandas/_libs/src/inference.pyx\u001b[0m in \u001b[0;36mpandas._libs.lib.maybe_convert_numeric\u001b[0;34m()\u001b[0m\n",
            "\u001b[0;31mValueError\u001b[0m: Unable to parse string \"n/a\" at position 0"
          ]
        }
      ]
    },
    {
      "metadata": {
        "trusted": true
      },
      "cell_type": "code",
      "source": "# An error! Let's force the string: n/a into a NaN\ndf['TimetoReact'] = pd.to_numeric(df['TimetoReact'], errors='coerce')\nprint(df.dtypes)",
      "execution_count": 8,
      "outputs": [
        {
          "output_type": "stream",
          "text": "Treatment        object\nLineCrosses       int64\nActive           object\nTimetoReact     float64\nReactionType     object\nInkDischarge     object\nBodyPattern      object\nfield8           object\nfield9           object\nfield10          object\nfield11          object\nfield12          object\ndtype: object\n",
          "name": "stdout"
        }
      ]
    },
    {
      "metadata": {
        "trusted": true
      },
      "cell_type": "code",
      "source": "# get an overview of our numeric data\ndf.describe()",
      "execution_count": 9,
      "outputs": [
        {
          "output_type": "execute_result",
          "execution_count": 9,
          "data": {
            "text/html": "<div>\n<style scoped>\n    .dataframe tbody tr th:only-of-type {\n        vertical-align: middle;\n    }\n\n    .dataframe tbody tr th {\n        vertical-align: top;\n    }\n\n    .dataframe thead th {\n        text-align: right;\n    }\n</style>\n<table border=\"1\" class=\"dataframe\">\n  <thead>\n    <tr style=\"text-align: right;\">\n      <th></th>\n      <th>LineCrosses</th>\n      <th>TimetoReact</th>\n    </tr>\n  </thead>\n  <tbody>\n    <tr>\n      <th>count</th>\n      <td>87.000000</td>\n      <td>54.000000</td>\n    </tr>\n    <tr>\n      <th>mean</th>\n      <td>39.114943</td>\n      <td>0.486420</td>\n    </tr>\n    <tr>\n      <th>std</th>\n      <td>90.590752</td>\n      <td>0.305403</td>\n    </tr>\n    <tr>\n      <th>min</th>\n      <td>0.000000</td>\n      <td>0.066667</td>\n    </tr>\n    <tr>\n      <th>25%</th>\n      <td>0.000000</td>\n      <td>0.300000</td>\n    </tr>\n    <tr>\n      <th>50%</th>\n      <td>0.000000</td>\n      <td>0.466667</td>\n    </tr>\n    <tr>\n      <th>75%</th>\n      <td>30.000000</td>\n      <td>0.558333</td>\n    </tr>\n    <tr>\n      <th>max</th>\n      <td>445.000000</td>\n      <td>1.933333</td>\n    </tr>\n  </tbody>\n</table>\n</div>",
            "text/plain": "       LineCrosses  TimetoReact\ncount    87.000000    54.000000\nmean     39.114943     0.486420\nstd      90.590752     0.305403\nmin       0.000000     0.066667\n25%       0.000000     0.300000\n50%       0.000000     0.466667\n75%      30.000000     0.558333\nmax     445.000000     1.933333"
          },
          "metadata": {}
        }
      ]
    },
    {
      "metadata": {
        "trusted": true
      },
      "cell_type": "code",
      "source": "# visualize the data\ndf[\"TimetoReact\"].plot(kind='kde')",
      "execution_count": 17,
      "outputs": [
        {
          "output_type": "execute_result",
          "execution_count": 17,
          "data": {
            "text/plain": "<matplotlib.axes._subplots.AxesSubplot at 0x7f17e8653400>"
          },
          "metadata": {}
        },
        {
          "output_type": "display_data",
          "data": {
            "image/png": "[encoded data removed]",
            "text/plain": "<Figure size 432x288 with 1 Axes>"
          },
          "metadata": {
            "needs_background": "light"
          }
        }
      ]
    },
    {
      "metadata": {
        "trusted": true
      },
      "cell_type": "code",
      "source": "# visualize the data\ndf[\"LineCrosses\"].plot(kind='kde')",
      "execution_count": 11,
      "outputs": [
        {
          "output_type": "execute_result",
          "execution_count": 11,
          "data": {
            "text/plain": "<matplotlib.axes._subplots.AxesSubplot at 0x7f17e8abb828>"
          },
          "metadata": {}
        },
        {
          "output_type": "display_data",
          "data": {
            "image/png": "[encoded data removed]",
            "text/plain": "<Figure size 432x288 with 1 Axes>"
          },
          "metadata": {
            "needs_background": "light"
          }
        }
      ]
    },
    {
      "metadata": {
        "trusted": true
      },
      "cell_type": "code",
      "source": "# any obvious correlation? \ndf.plot(kind='scatter',x='TimetoReact',y='LineCrosses')",
      "execution_count": 12,
      "outputs": [
        {
          "output_type": "execute_result",
          "execution_count": 12,
          "data": {
            "text/plain": "<matplotlib.axes._subplots.AxesSubplot at 0x7f17e86dd780>"
          },
          "metadata": {}
        },
        {
          "output_type": "display_data",
          "data": {
            "image/png": "[encoded data removed]",
            "text/plain": "<Figure size 432x288 with 1 Axes>"
          },
          "metadata": {
            "needs_background": "light"
          }
        }
      ]
    },
    {
      "metadata": {
        "trusted": true
      },
      "cell_type": "code",
      "source": "# lets go back to our strings\n# Treatment    Active    ReactionType    InkDischarge    BodyPattern      \n# field8    field9    field10    field11    field12\n\n# first lets see if anything exists in the field columns\npd.notna(df['field8'])\n",
      "execution_count": 13,
      "outputs": [
        {
          "output_type": "execute_result",
          "execution_count": 13,
          "data": {
            "text/plain": "0     False\n1     False\n2     False\n3     False\n4     False\n5     False\n6     False\n7     False\n8     False\n9     False\n10    False\n11    False\n12    False\n13    False\n14    False\n15    False\n16    False\n17    False\n18    False\n19    False\n20    False\n21    False\n22    False\n23    False\n24    False\n25    False\n26    False\n27    False\n28    False\n29    False\n      ...  \n57    False\n58    False\n59    False\n60    False\n61    False\n62    False\n63    False\n64    False\n65    False\n66    False\n67    False\n68    False\n69    False\n70    False\n71    False\n72    False\n73    False\n74    False\n75    False\n76    False\n77    False\n78    False\n79    False\n80    False\n81    False\n82    False\n83    False\n84    False\n85    False\n86    False\nName: field8, Length: 87, dtype: bool"
          },
          "metadata": {}
        }
      ]
    },
    {
      "metadata": {
        "trusted": true
      },
      "cell_type": "code",
      "source": "# check again, using an aggregate\npd.notna(df['field8']).sum()",
      "execution_count": 14,
      "outputs": [
        {
          "output_type": "execute_result",
          "execution_count": 14,
          "data": {
            "text/plain": "0"
          },
          "metadata": {}
        }
      ]
    },
    {
      "metadata": {
        "trusted": true
      },
      "cell_type": "code",
      "source": "# check another way\ndf['field9'].unique().tolist()",
      "execution_count": 15,
      "outputs": [
        {
          "output_type": "execute_result",
          "execution_count": 15,
          "data": {
            "text/plain": "[None]"
          },
          "metadata": {}
        }
      ]
    },
    {
      "metadata": {
        "trusted": true
      },
      "cell_type": "code",
      "source": "# much more efficent way to check.\ndf[['field8', 'field9', 'field10', 'field11', 'field12']].drop_duplicates()",
      "execution_count": 16,
      "outputs": [
        {
          "output_type": "execute_result",
          "execution_count": 16,
          "data": {
            "text/html": "<div>\n<style scoped>\n    .dataframe tbody tr th:only-of-type {\n        vertical-align: middle;\n    }\n\n    .dataframe tbody tr th {\n        vertical-align: top;\n    }\n\n    .dataframe thead th {\n        text-align: right;\n    }\n</style>\n<table border=\"1\" class=\"dataframe\">\n  <thead>\n    <tr style=\"text-align: right;\">\n      <th></th>\n      <th>field8</th>\n      <th>field9</th>\n      <th>field10</th>\n      <th>field11</th>\n      <th>field12</th>\n    </tr>\n  </thead>\n  <tbody>\n    <tr>\n      <th>0</th>\n      <td>None</td>\n      <td>None</td>\n      <td>None</td>\n      <td>None</td>\n      <td>None</td>\n    </tr>\n  </tbody>\n</table>\n</div>",
            "text/plain": "  field8 field9 field10 field11 field12\n0   None   None    None    None    None"
          },
          "metadata": {}
        }
      ]
    },
    {
      "metadata": {
        "trusted": true
      },
      "cell_type": "code",
      "source": "# remove the extra columns\n# from pandas documentation:\n# https://pandas.pydata.org/pandas-docs/stable/reference/api/pandas.DataFrame.drop.html\n# -- axis : {0 or ‘index’, 1 or ‘columns’}, default 0\n# ---- Whether to drop labels from the index (0 or ‘index’) or columns (1 or ‘columns’).\ndf.drop(['field8', 'field9', 'field10', 'field11', 'field12'], axis=1, inplace=True)",
      "execution_count": 18,
      "outputs": []
    },
    {
      "metadata": {
        "trusted": true
      },
      "cell_type": "code",
      "source": "# check the other columns\n# Treatment    Active    ReactionType    InkDischarge    BodyPattern \nfor column in df.select_dtypes(include=object).keys():\n    print(\"-----\")\n    print(\"Value counts in: %s\" % column)\n    print(df[column].value_counts())\n    print(\"\\n\")",
      "execution_count": 19,
      "outputs": [
        {
          "output_type": "stream",
          "text": "-----\nValue counts in: Treatment\nControl    31\nHigh       29\nMid        27\nName: Treatment, dtype: int64\n\n\n-----\nValue counts in: Active\nrest             58\nhigh activity    23\nlow activity      6\nName: Active, dtype: int64\n\n\n-----\nValue counts in: ReactionType\njet        40\nn/a        32\ndefence    15\nName: ReactionType, dtype: int64\n\n\n-----\nValue counts in: InkDischarge\nno     36\nyes    29\nn/a    22\nName: InkDischarge, dtype: int64\n\n\n-----\nValue counts in: BodyPattern\nno change      29\nn/a            22\ntransparent    18\ndeimatic       14\nflash           4\nName: BodyPattern, dtype: int64\n\n\n",
          "name": "stdout"
        }
      ]
    },
    {
      "metadata": {
        "trusted": true
      },
      "cell_type": "code",
      "source": "",
      "execution_count": null,
      "outputs": []
    }
  ],
  "metadata": {
    "kernelspec": {
      "name": "python36",
      "display_name": "Python 3.6",
      "language": "python"
    },
    "language_info": {
      "mimetype": "text/x-python",
      "nbconvert_exporter": "python",
      "name": "python",
      "pygments_lexer": "ipython3",
      "version": "3.6.6",
      "file_extension": ".py",
      "codemirror_mode": {
        "version": 3,
        "name": "ipython"
      }
    }
  },
  "nbformat": 4,
  "nbformat_minor": 2
}