{
 "cells": [
  {
   "cell_type": "code",
   "execution_count": 1,
   "metadata": {
    "pycharm": {
     "is_executing": false,
     "name": "#%%\n"
    }
   },
   "outputs": [
    {
     "data": {
      "text/plain": "[<matplotlib.lines.Line2D at 0x116387d10>]"
     },
     "metadata": {},
     "output_type": "execute_result",
     "execution_count": 1
    },
    {
     "data": {
      "text/plain": "<Figure size 432x288 with 1 Axes>",
      "image/png": "[encoded data removed]"
     },
     "metadata": {
      "needs_background": "light"
     },
     "output_type": "display_data"
    }
   ],
   "source": [
    "# create some x and y date\n",
    "from matplotlib import pyplot as plt\n",
    "x_list = [-4.0, -2.0, 3.0, 4.0, 5.0, 6.0]\n",
    "y_list = list()\n",
    "m = 2\n",
    "b = 4\n",
    "\n",
    "\n",
    "for x in x_list:\n",
    "    y = (m*x) + b\n",
    "    y_list.append(y)\n",
    "    \n",
    "plt.plot(x_list, y_list)\n"
   ]
  },
  {
   "cell_type": "code",
   "execution_count": 3,
   "metadata": {
    "pycharm": {
     "is_executing": false
    }
   },
   "outputs": [
    {
     "name": "stdout",
     "text": [
      "6\n"
     ],
     "output_type": "stream"
    }
   ],
   "source": [
    "def lin_model_single_ele(m, x, b):\n",
    "    \"\"\" Returns a single y for a given x using a line \"\"\"\n",
    "    return (m*x) + b\n",
    "\n",
    "x_list = [1, 2, 3, 4, 5, 6]\n",
    "y_observed = [2.11, 3.87, 6.01, 7.93, 9.99, 12.12]\n",
    "\n",
    "y_predicted = []\n",
    "m = 2\n",
    "b = 4\n",
    "\n",
    "for x in x_list:\n",
    "    y = lin_model_single_ele(m, x, b)\n",
    "    y_predicted.append(y)\n",
    "\n",
    "print(y_predicted[0])"
   ]
  },
  {
   "cell_type": "code",
   "execution_count": 4,
   "metadata": {
    "pycharm": {
     "is_executing": false,
     "name": "#%%\n"
    }
   },
   "outputs": [
    {
     "name": "stdout",
     "text": [
      "[3.89, 4.13, 3.99, 4.07, 4.01, 3.880000000000001]\n"
     ],
     "output_type": "stream"
    }
   ],
   "source": [
    "def calculate_residual(y_pred, y_obs):\n",
    "    \"\"\" Returns the residual of either a point or array \"\"\"\n",
    "    return y_pred-y_obs\n",
    "\n",
    "residuals = []\n",
    "for i in range(0, len(y_predicted)):\n",
    "    residual = calculate_residual(y_predicted[i], y_observed[i])\n",
    "    residuals.append(residual)\n",
    "\n",
    "print(residuals)"
   ]
  },
  {
   "cell_type": "code",
   "execution_count": 7,
   "metadata": {
    "pycharm": {
     "name": "#%%\n",
     "is_executing": false
    }
   },
   "outputs": [],
   "source": [
    "from statistics import mean\n",
    "\n",
    "def calculate_ssr(y_pred, y_obs, deci=4):\n",
    "    \"\"\"  Calculates the Sum of Squared Residuals using the observed and predicted y\"\"\"\n",
    "    delta = [calculate_residual(a_i, b_i) for a_i, b_i in zip(y_pred, y_obs)]\n",
    "    return round(sum([d * d for d in delta]), deci)\n",
    "\n",
    "\n",
    "def calculate_tss(y_obs, deci=4):\n",
    "\ty_mean = mean(y_obs)\n",
    "\tdelta = [y - y_mean for y in y_obs]\n",
    "\treturn round(sum([d * d for d in delta]), deci)\n",
    "\n",
    "\n",
    "def calculate_rsquared(ssr, tss, deci=4):\n",
    "\treturn round(1-(ssr/tss), 4)"
   ]
  },
  {
   "cell_type": "code",
   "execution_count": 8,
   "outputs": [
    {
     "name": "stdout",
     "text": [
      "SSE: 95.8085\n",
      "R^2: -0.355\n"
     ],
     "output_type": "stream"
    }
   ],
   "source": [
    "tss = calculate_tss(y_observed)\n",
    "ssr = calculate_ssr(y_observed, y_predicted)\n",
    "r2 = calculate_rsquared(ssr, tss)\n",
    "\n",
    "print('SSE: %s' % ssr)\n",
    "print('R^2: %s' % r2)"
   ],
   "metadata": {
    "collapsed": false,
    "pycharm": {
     "name": "#%%\n",
     "is_executing": false
    }
   }
  },
  {
   "cell_type": "code",
   "execution_count": 5,
   "metadata": {
    "pycharm": {
     "name": "#%%\n"
    }
   },
   "outputs": [],
   "source": [
    "def fit_line(x_input, y_observed, m_max=5, c_max=5, print_output=True):\n",
    "\n",
    "\tbest_model = {\n",
    "\t\t'm': None,\n",
    "\t\t'c': None,\n",
    "\t\t'SSE': None,\n",
    "\t\t'R^2': None\n",
    "\t}\n",
    "\tassert len(x_input) == len(y_observed), 'Input vectors have differing lengths'\n",
    "\n",
    "\ttss = calculate_tss(y_observed)\n",
    "\n",
    "\tfor m in range(1, m_max):\n",
    "\t\tfor c in range(0, c_max):\n",
    "\t\t\ty_model = list()\n",
    "\t\t\tfor x_i in x_input:\n",
    "\t\t\t\ty_i = (m*x_i) + c\n",
    "\t\t\t\ty_model.append(y_i)\n",
    "\n",
    "\t\t\tssr = calculate_ssr(y_observed, y_model)\n",
    "\t\t\tr2 = calculate_rsquared(ssr, tss)\n",
    "\t\t\tif print_output:\n",
    "\t\t\t\tprint('#####')\n",
    "\t\t\t\tprint('using: m=%s and c=%s' % (m, c))\n",
    "\t\t\t\tprint('actual: %s' % y_observed)\n",
    "\t\t\t\tprint('model: %s' % y_model)\n",
    "\t\t\t\tprint('SSE: %s' % ssr)\n",
    "\t\t\t\tprint('R^2: %s' % r2)\n",
    "\t\t\t\tprint('#####')\n",
    "\n",
    "\t\t\tif best_model['SSE'] is None or best_model['SSE'] > ssr:\n",
    "\t\t\t\tbest_model['m'] = m\n",
    "\t\t\t\tbest_model['c'] = c\n",
    "\t\t\t\tbest_model['SSE'] = ssr\n",
    "\t\t\t\tbest_model['R^2'] = r2\n",
    "\n",
    "\treturn best_model\n"
   ]
  },
  {
   "cell_type": "code",
   "execution_count": 8,
   "metadata": {
    "pycharm": {
     "name": "#%%\n"
    }
   },
   "outputs": [
    {
     "name": "stdout",
     "output_type": "stream",
     "text": [
      "best model: {'m': 2, 'c': 0, 'SSE': 0.0485, 'R^2': 0.9993}\n"
     ]
    }
   ],
   "source": [
    "my_model = fit_line(x_list, y_observed, print_output=False)\n",
    "print('best model: %s' % my_model)"
   ]
  },
  {
   "cell_type": "code",
   "execution_count": 7,
   "metadata": {
    "pycharm": {
     "name": "#%%\n"
    }
   },
   "outputs": [
    {
     "ename": "ModuleNotFoundError",
     "evalue": "No module named 'sklearn'",
     "output_type": "error",
     "traceback": [
      "\u001b[0;31m---------------------------------------------------------------------------\u001b[0m",
      "\u001b[0;31mModuleNotFoundError\u001b[0m                       Traceback (most recent call last)",
      "\u001b[0;32m<ipython-input-7-71deb65776bd>\u001b[0m in \u001b[0;36m<module>\u001b[0;34m\u001b[0m\n\u001b[0;32m----> 1\u001b[0;31m \u001b[0;32mfrom\u001b[0m \u001b[0msklearn\u001b[0m \u001b[0;32mimport\u001b[0m \u001b[0mlinear_model\u001b[0m\u001b[0;34m\u001b[0m\u001b[0m\n\u001b[0m\u001b[1;32m      2\u001b[0m \u001b[0;32mimport\u001b[0m \u001b[0mnumpy\u001b[0m \u001b[0;32mas\u001b[0m \u001b[0mnp\u001b[0m\u001b[0;34m\u001b[0m\u001b[0m\n\u001b[1;32m      3\u001b[0m \u001b[0;34m\u001b[0m\u001b[0m\n\u001b[1;32m      4\u001b[0m \u001b[0;31m# lm = linear_model.LinearRegression()\u001b[0m\u001b[0;34m\u001b[0m\u001b[0;34m\u001b[0m\u001b[0m\n\u001b[1;32m      5\u001b[0m \u001b[0;31m# X = np.array(x).reshape(-1, 1)\u001b[0m\u001b[0;34m\u001b[0m\u001b[0;34m\u001b[0m\u001b[0m\n",
      "\u001b[0;31mModuleNotFoundError\u001b[0m: No module named 'sklearn'"
     ]
    }
   ],
   "source": [
    "from sklearn import linear_model\n",
    "import numpy as np\n",
    "\n",
    "lm = linear_model.LinearRegression()\n",
    "X = np.array(x).reshape(-1, 1)\n",
    "Y = np.array(y).reshape(-1, 1)\n",
    "model = lm.fit(X, Y)\n",
    "print(lm.score(X, Y))\n",
    "\n"
   ]
  },
  {
   "cell_type": "code",
   "execution_count": null,
   "outputs": [],
   "source": [],
   "metadata": {
    "collapsed": false,
    "pycharm": {
     "name": "#%%\n"
    }
   }
  },
  {
   "cell_type": "code",
   "execution_count": null,
   "metadata": {},
   "outputs": [],
   "source": []
  }
 ],
 "metadata": {
  "@webio": {
   "lastCommId": null,
   "lastKernelId": null
  },
  "kernelspec": {
   "display_name": "Python 3",
   "language": "python",
   "name": "python3"
  },
  "language_info": {
   "codemirror_mode": {
    "name": "ipython",
    "version": 3
   },
   "file_extension": ".py",
   "mimetype": "text/x-python",
   "name": "python",
   "nbconvert_exporter": "python",
   "pygments_lexer": "ipython3",
   "version": "3.6.6+"
  },
  "pycharm": {
   "stem_cell": {
    "cell_type": "raw",
    "source": [],
    "metadata": {
     "collapsed": false
    }
   }
  }
 },
 "nbformat": 4,
 "nbformat_minor": 1
}