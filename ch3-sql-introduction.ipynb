{
  "cells": [
    {
      "metadata": {
        "pycharm": {
          "name": "#%%\n"
        },
        "trusted": true
      },
      "cell_type": "code",
      "source": "import sqlite3\n\n# connect to the dataset\nmyDB = './data/cephalopod_RnD.db'\nconnection = sqlite3.connect(myDB)\n",
      "execution_count": 1,
      "outputs": []
    },
    {
      "metadata": {
        "trusted": true
      },
      "cell_type": "code",
      "source": "# find out what tables we have\nmySQL = \"SELECT type, name FROM sqlite_master\"\nresult = connection.execute(mySQL)\n\n# iterate over the results\nfor line in result:\n    print(line)",
      "execution_count": 2,
      "outputs": [
        {
          "output_type": "stream",
          "text": "('table', 'cephbase')\n('table', 'spady_predation_bigfin')\n('table', 'spady_predation_pygmy')\n('table', 'spady_defense')\n('table', 'data_sources')\n('index', 'sqlite_autoindex_data_sources_1')\n",
          "name": "stdout"
        }
      ]
    },
    {
      "metadata": {
        "trusted": true
      },
      "cell_type": "code",
      "source": "# look at the data_sources table\nmySQL = \"SELECT * FROM data_sources\"\nresult = connection.execute(mySQL)\n\n# print only the first line\nprint(result.fetchone())",
      "execution_count": 3,
      "outputs": [
        {
          "output_type": "stream",
          "text": "('cephbase', 'http://cephbase.eol.org/specimen_observation', '2019-05-23', 'FROM URL: CephBase is a repository of data and factual information for the CLASS CEPHALOPODA - squids, octopuses, cuttlefish and nautilus. These remarkable and unique animals are best known to the public for their ability to instantly change color pattern, and for their jet propulsed escape and inking. Cephalopods are keystone species in marine ecosystems, they are important biomedical models for research, and they are the target of substantial fisheries worldwide.', None, None)\n",
          "name": "stdout"
        }
      ]
    },
    {
      "metadata": {
        "trusted": true
      },
      "cell_type": "code",
      "source": "# fetch another row\nrow = result.fetchone()\nprint(type(row))\nprint(row)",
      "execution_count": 4,
      "outputs": [
        {
          "output_type": "stream",
          "text": "<class 'tuple'>\n('spady_defense', 'https://research.jcu.edu.au/researchdata/default/detail/0fa2f5eb2fb95866715589e9800c8736/\\t', '2019-05-23', 'FROM URL: Projected near-future CO2 levels increase activity and alter defensive behaviours in the tropical squid Idiosepius pygmaeus', 'Spady, B.; Watson, S.-A.; Chase, T.; Munday, P. (2018). Projected near-future CO2 levels increase activity and alter defensive behaviours in the tropical squid Idiosepius pygmaeus. James Cook University. (dataset). http://dx.doi.org/10.4225/28/5aa75291e25ad', '10.4225/28/5aa75291e25ad')\n",
          "name": "stdout"
        }
      ]
    },
    {
      "metadata": {
        "trusted": true
      },
      "cell_type": "code",
      "source": "# close the connection\nconnection.close()\n\n# open the connection and create a row factory\nconnection = sqlite3.connect(myDB)\nconnection.row_factory = sqlite3.Row",
      "execution_count": 5,
      "outputs": []
    },
    {
      "metadata": {
        "trusted": true
      },
      "cell_type": "code",
      "source": "# look at the data_sources table\nmySQL = \"SELECT * FROM data_sources\"\nresult = connection.execute(mySQL)\nrow = result.fetchone()\n\n# inspect the data type of a row\nprint(type(row))\nprint(row)",
      "execution_count": 6,
      "outputs": [
        {
          "output_type": "stream",
          "text": "<class 'sqlite3.Row'>\n<sqlite3.Row object at 0x7fba5f8bdc70>\n",
          "name": "stdout"
        }
      ]
    },
    {
      "metadata": {
        "trusted": true
      },
      "cell_type": "code",
      "source": "# find the column names\nprint(row.keys())",
      "execution_count": 7,
      "outputs": [
        {
          "output_type": "stream",
          "text": "['Table', 'URL', 'Date Accessed', 'Description', 'Citation', 'DOI']\n",
          "name": "stdout"
        }
      ]
    },
    {
      "metadata": {
        "trusted": true
      },
      "cell_type": "code",
      "source": "# print our value\nprint(row['Table'])",
      "execution_count": 8,
      "outputs": [
        {
          "output_type": "stream",
          "text": "cephbase\n",
          "name": "stdout"
        }
      ]
    },
    {
      "metadata": {
        "trusted": true
      },
      "cell_type": "code",
      "source": "",
      "execution_count": null,
      "outputs": []
    }
  ],
  "metadata": {
    "language_info": {
      "mimetype": "text/x-python",
      "nbconvert_exporter": "python",
      "name": "python",
      "pygments_lexer": "ipython3",
      "version": "3.5.4",
      "file_extension": ".py",
      "codemirror_mode": {
        "version": 3,
        "name": "ipython"
      }
    },
    "kernelspec": {
      "name": "python3",
      "display_name": "Python 3",
      "language": "python"
    },
    "pycharm": {
      "stem_cell": {
        "cell_type": "raw",
        "source": [],
        "metadata": {
          "collapsed": false
        }
      }
    }
  },
  "nbformat": 4,
  "nbformat_minor": 1
}