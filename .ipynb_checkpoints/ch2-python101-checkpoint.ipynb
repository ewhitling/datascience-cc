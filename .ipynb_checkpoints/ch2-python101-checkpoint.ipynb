{
 "cells": [
  {
   "cell_type": "code",
   "execution_count": 1,
   "metadata": {
    "collapsed": false,
    "jupyter": {
     "outputs_hidden": false,
     "source_hidden": false
    },
    "nteract": {
     "transient": {
      "deleting": false
     }
    }
   },
   "outputs": [
    {
     "data": {
      "text/plain": [
       "16"
      ]
     },
     "execution_count": 1,
     "metadata": {},
     "output_type": "execute_result"
    }
   ],
   "source": [
    "# basic math\n",
    "1+1\n",
    "4*4"
   ]
  },
  {
   "cell_type": "code",
   "execution_count": 2,
   "metadata": {
    "collapsed": false,
    "jupyter": {
     "outputs_hidden": false
    },
    "pycharm": {
     "name": "#%%\n"
    }
   },
   "outputs": [
    {
     "name": "stdout",
     "output_type": "stream",
     "text": [
      "Hello, data!\n",
      "2\n",
      "16\n",
      "My result is:  4\n"
     ]
    }
   ],
   "source": [
    "# printing things\n",
    "print(\"Hello, data!\")\n",
    "print(1+1)\n",
    "print(4*4)\n",
    "print(\"My result is: \", 2*2)"
   ]
  },
  {
   "cell_type": "code",
   "execution_count": 3,
   "metadata": {
    "collapsed": false,
    "jupyter": {
     "outputs_hidden": false
    },
    "pycharm": {
     "name": "#%%\n"
    }
   },
   "outputs": [
    {
     "name": "stdout",
     "output_type": "stream",
     "text": [
      "False\n",
      "<class 'bool'>\n",
      "2020-04-21 13:40:34.848566\n"
     ]
    }
   ],
   "source": [
    "# ignore me -- for now.\n",
    "import datetime\n",
    "\n",
    "# data types\n",
    "my_int = 5\n",
    "my_number = 5.0\n",
    "my_string = \"octopus\"\n",
    "my_boolean = False\n",
    "my_date = datetime.datetime.now()\n",
    "\n",
    "print(my_boolean)\n",
    "\n",
    "print(my_date)"
   ]
  },
  {
   "cell_type": "code",
   "execution_count": 23,
   "metadata": {},
   "outputs": [
    {
     "name": "stdout",
     "output_type": "stream",
     "text": [
      "<class 'bool'>\n",
      "0.0\n",
      "<class 'float'>\n"
     ]
    }
   ],
   "source": [
    "print(type(my_boolean))\n",
    "float_bool = float(my_boolean)\n",
    "print(float_bool)\n",
    "print(type(float_bool))"
   ]
  },
  {
   "cell_type": "code",
   "execution_count": 22,
   "metadata": {
    "collapsed": false,
    "jupyter": {
     "outputs_hidden": false
    },
    "pycharm": {
     "name": "#%%\n"
    }
   },
   "outputs": [
    {
     "name": "stdout",
     "output_type": "stream",
     "text": [
      "octopus\n",
      "['octopus', 'squid', 'cuttlefish']\n",
      "['octopus', 'squid', 'cuttlefish', 'kraken']\n",
      "good\n",
      "dict_keys(['dog', 'octopus', 'cat'])\n"
     ]
    }
   ],
   "source": [
    "# data structures\n",
    "# list\n",
    "my_list = [\"octopus\", \"squid\", \"cuttlefish\"]\n",
    "print(my_list[0])\n",
    "print(my_list)\n",
    "my_list.append(\"kraken\")\n",
    "print(my_list)\n",
    "\n",
    "\n",
    "# dictionary\n",
    "my_dict = dict()\n",
    "my_dict['dog'] = \"good\" \n",
    "my_dict['octopus'] = \"evil\"\n",
    "my_dict['cat'] = \"evil\"\n",
    "\n",
    "print(my_dict['dog'])\n",
    "print(my_dict.keys())"
   ]
  },
  {
   "cell_type": "code",
   "execution_count": 9,
   "metadata": {
    "collapsed": false,
    "jupyter": {
     "outputs_hidden": false
    },
    "pycharm": {
     "name": "#%%\n"
    }
   },
   "outputs": [
    {
     "name": "stdout",
     "output_type": "stream",
     "text": [
      "False!\n",
      "Does the string equal the boolean? False\n",
      "From pop:  cuttlefish\n"
     ]
    }
   ],
   "source": [
    "# conditionals to control a logical flow of work\n",
    "if my_boolean:\n",
    "\tprint(\"It was true!\")\n",
    "else:\n",
    "\tprint(\"False!\")\n",
    "\n",
    "if my_boolean == True:\n",
    "\tprint(\"This is the same as just using 'if my_boolean:'\")\n",
    "\n",
    "print(\"Does the string equal the boolean? %s\" % (my_string == my_boolean))\n",
    "\n",
    "# conditionals in lists\n",
    "if 'octo' in my_list:\n",
    "    print(my_list)\n",
    "elif len(my_list) == 3 and my_list is not None:\n",
    "    print('From pop: ', my_list.pop())\n",
    "else:\n",
    "    print('remaking the list...')\n",
    "    my_list = [\"octopus\", \"squid\", \"cuttlefish\"]\n"
   ]
  },
  {
   "cell_type": "code",
   "execution_count": 10,
   "metadata": {
    "collapsed": false,
    "jupyter": {
     "outputs_hidden": false
    },
    "pycharm": {
     "name": "#%%\n"
    }
   },
   "outputs": [
    {
     "name": "stdout",
     "output_type": "stream",
     "text": [
      "0\n",
      "1\n",
      "2\n",
      "From the For loop: octopus\n",
      "From the For loop: squid\n",
      "From the While loop: octopus\n",
      "From the While loop: squid\n",
      "[0, 2, 4, 6, 8]\n",
      "[1, 3, 5, 7, 9]\n"
     ]
    }
   ],
   "source": [
    "# loops\n",
    "for i in range(0, 3):\n",
    "    print(i)\n",
    "\n",
    "for item in my_list:\n",
    "     print(\"From the For loop:\",item)\n",
    "    \n",
    "i = 0\n",
    "while True:\n",
    "    if i < len(my_list):\n",
    "        print(\"From the While loop:\", my_list[i])\n",
    "    else:\n",
    "        break\n",
    "    i = i + 1\n",
    "    \n",
    "# list comprehensions\n",
    "list_com = [i for i in range(0,10) if i % 2 == 0]\n",
    "print(list_com)\n",
    "\n",
    "list_com = [i+1 for i in range(0,10) if i % 2 == 0]\n",
    "print(list_com)"
   ]
  },
  {
   "cell_type": "code",
   "execution_count": 27,
   "metadata": {
    "collapsed": false,
    "jupyter": {
     "outputs_hidden": false
    },
    "pycharm": {
     "name": "#%%\n"
    }
   },
   "outputs": [
    {
     "ename": "AssertionError",
     "evalue": "Asserts check assumptions.",
     "output_type": "error",
     "traceback": [
      "\u001b[0;31m---------------------------------------------------------------------------\u001b[0m",
      "\u001b[0;31mAssertionError\u001b[0m                            Traceback (most recent call last)",
      "\u001b[0;32m<ipython-input-27-fec4bd13821a>\u001b[0m in \u001b[0;36m<module>\u001b[0;34m\u001b[0m\n\u001b[1;32m      1\u001b[0m \u001b[0;31m# asserts\u001b[0m\u001b[0;34m\u001b[0m\u001b[0;34m\u001b[0m\u001b[0;34m\u001b[0m\u001b[0m\n\u001b[0;32m----> 2\u001b[0;31m \u001b[0;32massert\u001b[0m  \u001b[0mmy_boolean\u001b[0m\u001b[0;34m==\u001b[0m\u001b[0;32mTrue\u001b[0m\u001b[0;34m,\u001b[0m \u001b[0;34m\"Asserts check assumptions.\"\u001b[0m\u001b[0;34m\u001b[0m\u001b[0;34m\u001b[0m\u001b[0m\n\u001b[0m",
      "\u001b[0;31mAssertionError\u001b[0m: Asserts check assumptions."
     ]
    }
   ],
   "source": [
    "# asserts\n",
    "assert  my_boolean==True, \"Asserts check assumptions.\""
   ]
  },
  {
   "cell_type": "code",
   "execution_count": 25,
   "metadata": {
    "collapsed": false,
    "jupyter": {
     "outputs_hidden": false
    },
    "pycharm": {
     "name": "#%%\n"
    }
   },
   "outputs": [
    {
     "name": "stdout",
     "output_type": "stream",
     "text": [
      "This dog probably an octopus. Run away!\n",
      "This octopus is well disguised as a cat!\n",
      "This Gorgon! is a mutant octopus. Tread carefully...\n"
     ]
    }
   ],
   "source": [
    "# create a function\n",
    "def is_it_an_octopus(limbs, thing):\n",
    "\n",
    "    assert type(limbs) == int, \"Limbs must be an integer.\"\n",
    "    assert type(thing) == str, \"Your thing must be a string.\"\n",
    "\n",
    "    if limbs == 8:\n",
    "        print(\"This %s probably an octopus. Run away!\" % thing)\n",
    "    elif limbs >= 7 and limbs <= 9:\n",
    "        print(\"This %s is a mutant octopus. Tread carefully...\" % thing)\n",
    "    else:\n",
    "        print(\"This octopus is well disguised as a %s!\" % thing)\n",
    "\n",
    "is_it_an_octopus(8, \"dog\")\n",
    "is_it_an_octopus(4, \"cat\")\n",
    "is_it_an_octopus(9, \"Gorgon!\")\n"
   ]
  }
 ],
 "metadata": {
  "kernelspec": {
   "display_name": "Python 3",
   "language": "python",
   "name": "python3"
  },
  "language_info": {
   "codemirror_mode": {
    "name": "ipython",
    "version": 3
   },
   "file_extension": ".py",
   "mimetype": "text/x-python",
   "name": "python",
   "nbconvert_exporter": "python",
   "pygments_lexer": "ipython3",
   "version": "3.8.2"
  },
  "pycharm": {
   "stem_cell": {
    "cell_type": "raw",
    "metadata": {
     "collapsed": false
    },
    "source": []
   }
  }
 },
 "nbformat": 4,
 "nbformat_minor": 4
}
