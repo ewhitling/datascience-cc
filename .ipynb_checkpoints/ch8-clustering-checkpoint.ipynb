{
 "cells": [
  {
   "cell_type": "code",
   "execution_count": 8,
   "metadata": {},
   "outputs": [
    {
     "data": {
      "text/html": [
       "<div>\n",
       "<style scoped>\n",
       "    .dataframe tbody tr th:only-of-type {\n",
       "        vertical-align: middle;\n",
       "    }\n",
       "\n",
       "    .dataframe tbody tr th {\n",
       "        vertical-align: top;\n",
       "    }\n",
       "\n",
       "    .dataframe thead th {\n",
       "        text-align: right;\n",
       "    }\n",
       "</style>\n",
       "<table border=\"1\" class=\"dataframe\">\n",
       "  <thead>\n",
       "    <tr style=\"text-align: right;\">\n",
       "      <th></th>\n",
       "      <th>ID</th>\n",
       "      <th>TaxID</th>\n",
       "      <th>Genus</th>\n",
       "      <th>Species</th>\n",
       "      <th>Source Region</th>\n",
       "      <th>ML</th>\n",
       "      <th>LRL</th>\n",
       "      <th>WetWeight</th>\n",
       "    </tr>\n",
       "  </thead>\n",
       "  <tbody>\n",
       "    <tr>\n",
       "      <th>0</th>\n",
       "      <td>743</td>\n",
       "      <td>493</td>\n",
       "      <td>Histioteuthis</td>\n",
       "      <td>miranda</td>\n",
       "      <td>South Africa</td>\n",
       "      <td>300.0</td>\n",
       "      <td>7.9</td>\n",
       "      <td>2019.0</td>\n",
       "    </tr>\n",
       "    <tr>\n",
       "      <th>1</th>\n",
       "      <td>744</td>\n",
       "      <td>493</td>\n",
       "      <td>Histioteuthis</td>\n",
       "      <td>miranda</td>\n",
       "      <td>South Africa</td>\n",
       "      <td>270.0</td>\n",
       "      <td>7.3</td>\n",
       "      <td>1935.0</td>\n",
       "    </tr>\n",
       "    <tr>\n",
       "      <th>2</th>\n",
       "      <td>745</td>\n",
       "      <td>493</td>\n",
       "      <td>Histioteuthis</td>\n",
       "      <td>miranda</td>\n",
       "      <td>South Africa</td>\n",
       "      <td>182.0</td>\n",
       "      <td>7.1</td>\n",
       "      <td>770.0</td>\n",
       "    </tr>\n",
       "    <tr>\n",
       "      <th>3</th>\n",
       "      <td>746</td>\n",
       "      <td>493</td>\n",
       "      <td>Histioteuthis</td>\n",
       "      <td>miranda</td>\n",
       "      <td>South Africa</td>\n",
       "      <td>255.0</td>\n",
       "      <td>6.9</td>\n",
       "      <td>1512.0</td>\n",
       "    </tr>\n",
       "    <tr>\n",
       "      <th>4</th>\n",
       "      <td>747</td>\n",
       "      <td>493</td>\n",
       "      <td>Histioteuthis</td>\n",
       "      <td>miranda</td>\n",
       "      <td>South Africa</td>\n",
       "      <td>225.0</td>\n",
       "      <td>6.9</td>\n",
       "      <td>1003.0</td>\n",
       "    </tr>\n",
       "  </tbody>\n",
       "</table>\n",
       "</div>"
      ],
      "text/plain": [
       "    ID  TaxID          Genus  Species Source Region     ML  LRL  WetWeight\n",
       "0  743    493  Histioteuthis  miranda  South Africa  300.0  7.9     2019.0\n",
       "1  744    493  Histioteuthis  miranda  South Africa  270.0  7.3     1935.0\n",
       "2  745    493  Histioteuthis  miranda  South Africa  182.0  7.1      770.0\n",
       "3  746    493  Histioteuthis  miranda  South Africa  255.0  6.9     1512.0\n",
       "4  747    493  Histioteuthis  miranda  South Africa  225.0  6.9     1003.0"
      ]
     },
     "execution_count": 8,
     "metadata": {},
     "output_type": "execute_result"
    }
   ],
   "source": [
    "import pandas as pd\n",
    "import sqlite3\n",
    "import seaborn as sns\n",
    "\n",
    "\n",
    "# connect to the dataset\n",
    "myDB = './data/cephalopod_RnD.db'\n",
    "connection = sqlite3.connect(myDB)\n",
    "\n",
    "# read the data into a dataframe\n",
    "mySQL = \"\"\" \n",
    "SELECT \n",
    "\tID\n",
    "\t, TaxID\n",
    "\t, Genus\n",
    "\t, Species\n",
    "\t, [Source Region]\n",
    "\t, ML\n",
    "\t, LRL\n",
    "\t, WetWeight\n",
    "FROM cephalopod_beak_data\n",
    "WHERE Species in ('duvauceli', 'hyadesi', 'miranda')\"\"\"\n",
    "df = pd.read_sql(mySQL, connection)\n",
    "\n",
    "df.head()\n"
   ]
  },
  {
   "cell_type": "code",
   "execution_count": 11,
   "metadata": {},
   "outputs": [
    {
     "data": {
      "text/plain": [
       "<matplotlib.axes._subplots.AxesSubplot at 0x7fe079542550>"
      ]
     },
     "execution_count": 11,
     "metadata": {},
     "output_type": "execute_result"
    },
    {
     "data": {
      "image/png": "[encoded data removed]",
      "text/plain": [
       "<Figure size 432x288 with 1 Axes>"
      ]
     },
     "metadata": {
      "needs_background": "light"
     },
     "output_type": "display_data"
    }
   ],
   "source": [
    "sns.scatterplot(data=df, x=\"ML\", y=\"LRL\")"
   ]
  },
  {
   "cell_type": "code",
   "execution_count": 10,
   "metadata": {},
   "outputs": [
    {
     "data": {
      "text/plain": [
       "<matplotlib.axes._subplots.AxesSubplot at 0x7fe07bbcc6d0>"
      ]
     },
     "execution_count": 10,
     "metadata": {},
     "output_type": "execute_result"
    },
    {
     "data": {
      "image/png": "[encoded data removed]",
      "text/plain": [
       "<Figure size 432x288 with 1 Axes>"
      ]
     },
     "metadata": {
      "needs_background": "light"
     },
     "output_type": "display_data"
    }
   ],
   "source": [
    "sns.scatterplot(data=df, x=\"WetWeight\", y=\"LRL\")"
   ]
  },
  {
   "cell_type": "code",
   "execution_count": null,
   "metadata": {},
   "outputs": [],
   "source": [
    "# specify the number of clusters / centroids\n",
    "C = 3\n"
   ]
  }
 ],
 "metadata": {
  "kernelspec": {
   "display_name": "Python 3",
   "language": "python",
   "name": "python3"
  },
  "language_info": {
   "codemirror_mode": {
    "name": "ipython",
    "version": 3
   },
   "file_extension": ".py",
   "mimetype": "text/x-python",
   "name": "python",
   "nbconvert_exporter": "python",
   "pygments_lexer": "ipython3",
   "version": "3.8.5"
  }
 },
 "nbformat": 4,
 "nbformat_minor": 4
}
