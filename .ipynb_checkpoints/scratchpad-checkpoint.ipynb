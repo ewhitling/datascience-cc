{
  "cells": [
    {
      "metadata": {
        "trusted": true
      },
      "cell_type": "code",
      "source": "import sqlite3\nimport pandas as pd\n\n# connect to the dataset\nmyDB = './data/cephalopod_RnD.db'\nconnection = sqlite3.connect(myDB)",
      "execution_count": 1,
      "outputs": []
    },
    {
      "metadata": {
        "trusted": true
      },
      "cell_type": "code",
      "source": "mySQL = \"SELECT * FROM spady_defense\" \ndf = pd.read_sql(mySQL, connection)",
      "execution_count": 2,
      "outputs": []
    },
    {
      "metadata": {
        "trusted": true
      },
      "cell_type": "code",
      "source": "df.to_csv('./data/spady_defense.csv')",
      "execution_count": 4,
      "outputs": []
    },
    {
      "metadata": {
        "trusted": true
      },
      "cell_type": "code",
      "source": "# import pandas\nimport pandas as pd\n\n# define a file path\nmyFile = './data/spady_defense.csv'\n\n# load data\ndf = pd.read_csv(myFile)\n\n# return the first five rows\ndf.head()",
      "execution_count": 7,
      "outputs": [
        {
          "output_type": "execute_result",
          "execution_count": 7,
          "data": {
            "text/html": "<div>\n<style scoped>\n    .dataframe tbody tr th:only-of-type {\n        vertical-align: middle;\n    }\n\n    .dataframe tbody tr th {\n        vertical-align: top;\n    }\n\n    .dataframe thead th {\n        text-align: right;\n    }\n</style>\n<table border=\"1\" class=\"dataframe\">\n  <thead>\n    <tr style=\"text-align: right;\">\n      <th></th>\n      <th>Unnamed: 0</th>\n      <th>Treatment</th>\n      <th>LineCrosses</th>\n      <th>Active</th>\n      <th>TimetoReact</th>\n      <th>ReactionType</th>\n      <th>InkDischarge</th>\n      <th>BodyPattern</th>\n      <th>field8</th>\n      <th>field9</th>\n      <th>field10</th>\n      <th>field11</th>\n      <th>field12</th>\n    </tr>\n  </thead>\n  <tbody>\n    <tr>\n      <th>0</th>\n      <td>0</td>\n      <td>Control</td>\n      <td>0</td>\n      <td>rest</td>\n      <td>NaN</td>\n      <td>NaN</td>\n      <td>NaN</td>\n      <td>NaN</td>\n      <td>NaN</td>\n      <td>NaN</td>\n      <td>NaN</td>\n      <td>NaN</td>\n      <td>NaN</td>\n    </tr>\n    <tr>\n      <th>1</th>\n      <td>1</td>\n      <td>Control</td>\n      <td>0</td>\n      <td>rest</td>\n      <td>NaN</td>\n      <td>NaN</td>\n      <td>NaN</td>\n      <td>NaN</td>\n      <td>NaN</td>\n      <td>NaN</td>\n      <td>NaN</td>\n      <td>NaN</td>\n      <td>NaN</td>\n    </tr>\n    <tr>\n      <th>2</th>\n      <td>2</td>\n      <td>Control</td>\n      <td>65</td>\n      <td>high activity</td>\n      <td>NaN</td>\n      <td>NaN</td>\n      <td>NaN</td>\n      <td>NaN</td>\n      <td>NaN</td>\n      <td>NaN</td>\n      <td>NaN</td>\n      <td>NaN</td>\n      <td>NaN</td>\n    </tr>\n    <tr>\n      <th>3</th>\n      <td>3</td>\n      <td>Control</td>\n      <td>0</td>\n      <td>rest</td>\n      <td>NaN</td>\n      <td>NaN</td>\n      <td>NaN</td>\n      <td>NaN</td>\n      <td>NaN</td>\n      <td>NaN</td>\n      <td>NaN</td>\n      <td>NaN</td>\n      <td>NaN</td>\n    </tr>\n    <tr>\n      <th>4</th>\n      <td>4</td>\n      <td>Control</td>\n      <td>0</td>\n      <td>rest</td>\n      <td>NaN</td>\n      <td>NaN</td>\n      <td>NaN</td>\n      <td>NaN</td>\n      <td>NaN</td>\n      <td>NaN</td>\n      <td>NaN</td>\n      <td>NaN</td>\n      <td>NaN</td>\n    </tr>\n  </tbody>\n</table>\n</div>",
            "text/plain": "   Unnamed: 0 Treatment  LineCrosses         Active  TimetoReact ReactionType  \\\n0           0   Control            0           rest          NaN          NaN   \n1           1   Control            0           rest          NaN          NaN   \n2           2   Control           65  high activity          NaN          NaN   \n3           3   Control            0           rest          NaN          NaN   \n4           4   Control            0           rest          NaN          NaN   \n\n  InkDischarge BodyPattern  field8  field9  field10  field11  field12  \n0          NaN         NaN     NaN     NaN      NaN      NaN      NaN  \n1          NaN         NaN     NaN     NaN      NaN      NaN      NaN  \n2          NaN         NaN     NaN     NaN      NaN      NaN      NaN  \n3          NaN         NaN     NaN     NaN      NaN      NaN      NaN  \n4          NaN         NaN     NaN     NaN      NaN      NaN      NaN  "
          },
          "metadata": {}
        }
      ]
    },
    {
      "metadata": {
        "trusted": true
      },
      "cell_type": "code",
      "source": "# redefine file as a json\nmyFile = './data/spady_defense.json'\n\n# load data\ndf = pd.read_json(myFile)\n\n# return the first five rows\ndf.head()",
      "execution_count": 8,
      "outputs": [
        {
          "output_type": "execute_result",
          "execution_count": 8,
          "data": {
            "text/html": "<div>\n<style scoped>\n    .dataframe tbody tr th:only-of-type {\n        vertical-align: middle;\n    }\n\n    .dataframe tbody tr th {\n        vertical-align: top;\n    }\n\n    .dataframe thead th {\n        text-align: right;\n    }\n</style>\n<table border=\"1\" class=\"dataframe\">\n  <thead>\n    <tr style=\"text-align: right;\">\n      <th></th>\n      <th>Treatment</th>\n      <th>LineCrosses</th>\n      <th>Active</th>\n      <th>TimetoReact</th>\n      <th>ReactionType</th>\n      <th>InkDischarge</th>\n      <th>BodyPattern</th>\n      <th>field8</th>\n      <th>field9</th>\n      <th>field10</th>\n      <th>field11</th>\n      <th>field12</th>\n    </tr>\n  </thead>\n  <tbody>\n    <tr>\n      <th>0</th>\n      <td>Control</td>\n      <td>0</td>\n      <td>rest</td>\n      <td>n/a</td>\n      <td>n/a</td>\n      <td>n/a</td>\n      <td>n/a</td>\n      <td>NaN</td>\n      <td>NaN</td>\n      <td>NaN</td>\n      <td>NaN</td>\n      <td>NaN</td>\n    </tr>\n    <tr>\n      <th>1</th>\n      <td>Control</td>\n      <td>0</td>\n      <td>rest</td>\n      <td>n/a</td>\n      <td>n/a</td>\n      <td>n/a</td>\n      <td>n/a</td>\n      <td>NaN</td>\n      <td>NaN</td>\n      <td>NaN</td>\n      <td>NaN</td>\n      <td>NaN</td>\n    </tr>\n    <tr>\n      <th>10</th>\n      <td>Control</td>\n      <td>0</td>\n      <td>rest</td>\n      <td>n/a</td>\n      <td>n/a</td>\n      <td>n/a</td>\n      <td>n/a</td>\n      <td>NaN</td>\n      <td>NaN</td>\n      <td>NaN</td>\n      <td>NaN</td>\n      <td>NaN</td>\n    </tr>\n    <tr>\n      <th>11</th>\n      <td>Control</td>\n      <td>4</td>\n      <td>low activity</td>\n      <td>n/a</td>\n      <td>n/a</td>\n      <td>no</td>\n      <td>deimatic</td>\n      <td>NaN</td>\n      <td>NaN</td>\n      <td>NaN</td>\n      <td>NaN</td>\n      <td>NaN</td>\n    </tr>\n    <tr>\n      <th>12</th>\n      <td>Control</td>\n      <td>0</td>\n      <td>rest</td>\n      <td>0.56666667</td>\n      <td>defence</td>\n      <td>yes</td>\n      <td>no change</td>\n      <td>NaN</td>\n      <td>NaN</td>\n      <td>NaN</td>\n      <td>NaN</td>\n      <td>NaN</td>\n    </tr>\n  </tbody>\n</table>\n</div>",
            "text/plain": "   Treatment  LineCrosses        Active TimetoReact ReactionType InkDischarge  \\\n0    Control            0          rest         n/a          n/a          n/a   \n1    Control            0          rest         n/a          n/a          n/a   \n10   Control            0          rest         n/a          n/a          n/a   \n11   Control            4  low activity         n/a          n/a           no   \n12   Control            0          rest  0.56666667      defence          yes   \n\n   BodyPattern  field8  field9  field10  field11  field12  \n0          n/a     NaN     NaN      NaN      NaN      NaN  \n1          n/a     NaN     NaN      NaN      NaN      NaN  \n10         n/a     NaN     NaN      NaN      NaN      NaN  \n11    deimatic     NaN     NaN      NaN      NaN      NaN  \n12   no change     NaN     NaN      NaN      NaN      NaN  "
          },
          "metadata": {}
        }
      ]
    },
    {
      "metadata": {
        "trusted": true
      },
      "cell_type": "code",
      "source": "",
      "execution_count": null,
      "outputs": []
    }
  ],
  "metadata": {
    "kernelspec": {
      "name": "python36",
      "display_name": "Python 3.6",
      "language": "python"
    },
    "language_info": {
      "mimetype": "text/x-python",
      "nbconvert_exporter": "python",
      "name": "python",
      "pygments_lexer": "ipython3",
      "version": "3.6.6",
      "file_extension": ".py",
      "codemirror_mode": {
        "version": 3,
        "name": "ipython"
      }
    }
  },
  "nbformat": 4,
  "nbformat_minor": 2
}