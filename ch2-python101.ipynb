{
 "cells": [
  {
   "cell_type": "code",
   "execution_count": 32,
   "metadata": {
    "collapsed": false,
    "jupyter": {
     "outputs_hidden": false,
     "source_hidden": false
    },
    "nteract": {
     "transient": {
      "deleting": false
     }
    }
   },
   "outputs": [
    {
     "data": {
      "text/plain": [
       "16"
      ]
     },
     "execution_count": 32,
     "metadata": {},
     "output_type": "execute_result"
    }
   ],
   "source": [
    "# basic math\n",
    "1+1\n",
    "4*4"
   ]
  },
  {
   "cell_type": "code",
   "execution_count": 46,
   "metadata": {},
   "outputs": [],
   "source": [
    "quote = \"Talent without discipline is like an octopus on roller skates. There’s plenty of movement, but you never know if it’s going to be forward, backwards, or sideways.\""
   ]
  },
  {
   "cell_type": "code",
   "execution_count": 47,
   "metadata": {},
   "outputs": [
    {
     "name": "stdout",
     "output_type": "stream",
     "text": [
      "Talent without discipline is like an octopus on roller skates. There’s plenty of movement, but you never know if it’s going to be forward, backwards, or sideways.\n",
      "To be or not to be\n",
      "11\n"
     ]
    }
   ],
   "source": [
    "print(quote)\n",
    "quote = \"To be or not to be\"\n",
    "print(quote)\n",
    "\n",
    "x = 1\n",
    "y = 10\n",
    "z = x+y\n",
    "print(z)"
   ]
  },
  {
   "cell_type": "code",
   "execution_count": 33,
   "metadata": {
    "collapsed": false,
    "jupyter": {
     "outputs_hidden": false
    },
    "pycharm": {
     "name": "#%%\n"
    }
   },
   "outputs": [
    {
     "name": "stdout",
     "output_type": "stream",
     "text": [
      "Hello, data!\n",
      "2\n",
      "16\n",
      "My result is:  4\n"
     ]
    }
   ],
   "source": [
    "# printing things\n",
    "print(\"Hello, data!\")\n",
    "print(1+1)\n",
    "print(4*4)\n",
    "print(\"My result is: \", 2*2)"
   ]
  },
  {
   "cell_type": "code",
   "execution_count": 34,
   "metadata": {
    "collapsed": false,
    "jupyter": {
     "outputs_hidden": false
    },
    "pycharm": {
     "name": "#%%\n"
    }
   },
   "outputs": [
    {
     "name": "stdout",
     "output_type": "stream",
     "text": [
      "False\n",
      "2020-10-07 06:45:07.273066\n"
     ]
    }
   ],
   "source": [
    "# ignore me -- for now.\n",
    "import datetime\n",
    "\n",
    "# data types\n",
    "my_int = 5\n",
    "my_number = 5.0\n",
    "my_string = \"octopus\"\n",
    "my_boolean = False\n",
    "my_date = datetime.datetime.now()\n",
    "\n",
    "print(my_boolean)\n",
    "\n",
    "print(my_date)"
   ]
  },
  {
   "cell_type": "code",
   "execution_count": 35,
   "metadata": {},
   "outputs": [
    {
     "name": "stdout",
     "output_type": "stream",
     "text": [
      "<class 'bool'>\n",
      "0.0\n",
      "<class 'float'>\n"
     ]
    }
   ],
   "source": [
    "print(type(my_boolean))\n",
    "float_bool = float(my_boolean)\n",
    "print(float_bool)\n",
    "print(type(float_bool))"
   ]
  },
  {
   "cell_type": "code",
   "execution_count": 36,
   "metadata": {},
   "outputs": [
    {
     "name": "stdout",
     "output_type": "stream",
     "text": [
      "True\n",
      "['Kendrick Lamar', 'Del the Funky Homospaien', 'Lupe Fiasco', 'Kendrick Lamar']\n",
      "Lupe Fiasco\n",
      "['Mozart', 1001, True]\n"
     ]
    }
   ],
   "source": [
    "# data structures\n",
    "# list\n",
    "artist_list = [\"Kendrick Lamar\", \"Del the Funky Homospaien\", \"Lupe Fiasco\", \"Kendrick Lamar\"]\n",
    "new_list = [artist_list, \"Mozart\", 1001, True, 621] \n",
    "\n",
    "print(new_list[3])\n",
    "print(new_list[0])\n",
    "print(new_list[0][2])\n",
    "print(new_list[1:-1])\n",
    "# print(new_list[4])\n",
    "\n"
   ]
  },
  {
   "cell_type": "code",
   "execution_count": 37,
   "metadata": {},
   "outputs": [
    {
     "name": "stdout",
     "output_type": "stream",
     "text": [
      "1\n",
      "5\n"
     ]
    }
   ],
   "source": [
    "print(new_list.index(\"Mozart\"))\n",
    "print(len(new_list))"
   ]
  },
  {
   "cell_type": "code",
   "execution_count": 38,
   "metadata": {},
   "outputs": [
    {
     "ename": "TypeError",
     "evalue": "'tuple' object does not support item assignment",
     "output_type": "error",
     "traceback": [
      "\u001b[0;31m---------------------------------------------------------------------------\u001b[0m",
      "\u001b[0;31mTypeError\u001b[0m                                 Traceback (most recent call last)",
      "\u001b[0;32m<ipython-input-38-ea57a055bfaf>\u001b[0m in \u001b[0;36m<module>\u001b[0;34m\u001b[0m\n\u001b[1;32m      2\u001b[0m \u001b[0mtype\u001b[0m\u001b[0;34m(\u001b[0m\u001b[0mtuple_example\u001b[0m\u001b[0;34m)\u001b[0m\u001b[0;34m\u001b[0m\u001b[0;34m\u001b[0m\u001b[0m\n\u001b[1;32m      3\u001b[0m \u001b[0;34m\u001b[0m\u001b[0m\n\u001b[0;32m----> 4\u001b[0;31m \u001b[0mtuple_example\u001b[0m\u001b[0;34m[\u001b[0m\u001b[0;36m1\u001b[0m\u001b[0;34m]\u001b[0m \u001b[0;34m=\u001b[0m \u001b[0;36m7\u001b[0m\u001b[0;34m\u001b[0m\u001b[0;34m\u001b[0m\u001b[0m\n\u001b[0m",
      "\u001b[0;31mTypeError\u001b[0m: 'tuple' object does not support item assignment"
     ]
    }
   ],
   "source": [
    "tuple_example = (1, 2, \"Hello!\")\n",
    "type(tuple_example)\n",
    "\n",
    "tuple_example[1] = 7"
   ]
  },
  {
   "cell_type": "code",
   "execution_count": 39,
   "metadata": {
    "collapsed": false,
    "jupyter": {
     "outputs_hidden": false
    },
    "pycharm": {
     "name": "#%%\n"
    }
   },
   "outputs": [
    {
     "name": "stdout",
     "output_type": "stream",
     "text": [
      "octopus\n",
      "['octopus', 'squid', 'cuttlefish']\n",
      "['octopus', 'squid', 'cuttlefish', 'kraken']\n"
     ]
    }
   ],
   "source": [
    "# data structures\n",
    "# list\n",
    "my_list = [\"octopus\", \"squid\", \"cuttlefish\"]\n",
    "print(my_list[0])\n",
    "print(my_list)\n",
    "my_list.append(\"kraken\")\n",
    "print(my_list)"
   ]
  },
  {
   "cell_type": "code",
   "execution_count": 40,
   "metadata": {
    "collapsed": false,
    "jupyter": {
     "outputs_hidden": false
    },
    "pycharm": {
     "name": "#%%\n"
    }
   },
   "outputs": [
    {
     "name": "stdout",
     "output_type": "stream",
     "text": [
      "Whitling\n",
      "dict_keys(['first name', 'last name', 'phone number'])\n"
     ]
    }
   ],
   "source": [
    "# dictionary\n",
    "contact_info = {}\n",
    "contact_info[\"first name\"] = \"Elliott\"\n",
    "contact_info[\"last name\"] = \"Whitling\"\n",
    "contact_info[\"phone number\"] = 1234567890\n",
    "\n",
    "print(contact_info['last name'])\n",
    "print(contact_info.keys())"
   ]
  },
  {
   "cell_type": "code",
   "execution_count": 59,
   "metadata": {
    "collapsed": false,
    "jupyter": {
     "outputs_hidden": false
    },
    "pycharm": {
     "name": "#%%\n"
    }
   },
   "outputs": [
    {
     "name": "stdout",
     "output_type": "stream",
     "text": [
      "X is negative.\n",
      "From pop:  cuttlefish\n"
     ]
    }
   ],
   "source": [
    "# conditionals to control a logical flow of work\n",
    "x = -8\n",
    "if x >= 0:\n",
    "\tprint(\"X is positive.\")\n",
    "else:\n",
    "\tprint(\"X is negative.\")\n",
    "\n",
    "# conditionals in lists\n",
    "my_list = [\"octopus\", \"squid\", \"cuttlefish\"]\n",
    "if 'octo' in my_list:\n",
    "    print(my_list)\n",
    "elif len(my_list) == 3:\n",
    "    print('From pop: ', my_list.pop())\n",
    "else:\n",
    "    print('remaking the list...')\n",
    "    my_list = [\"octopus\", \"squid\", \"cuttlefish\"]\n"
   ]
  },
  {
   "cell_type": "code",
   "execution_count": 48,
   "metadata": {
    "collapsed": false,
    "jupyter": {
     "outputs_hidden": false
    },
    "pycharm": {
     "name": "#%%\n"
    }
   },
   "outputs": [
    {
     "name": "stdout",
     "output_type": "stream",
     "text": [
      "0\n",
      "1\n",
      "2\n",
      "From the For loop: octopus\n",
      "From the For loop: squid\n",
      "From the For loop: cuttlefish\n",
      "Key:  first name   Value:  Elliott\n",
      "Key:  last name   Value:  Whitling\n",
      "Key:  phone number   Value:  1234567890\n"
     ]
    }
   ],
   "source": [
    "# loops\n",
    "for i in range(0, 3):\n",
    "    print(i)\n",
    "\n",
    "for item in my_list:\n",
    "     print(\"From the For loop:\",item)\n",
    "        \n",
    "for key in contact_info.keys():\n",
    "     print(\"Key: \", key, \"  Value: \",  contact_info[key])\n",
    "    "
   ]
  },
  {
   "cell_type": "code",
   "execution_count": 42,
   "metadata": {
    "collapsed": false,
    "jupyter": {
     "outputs_hidden": false
    },
    "pycharm": {
     "name": "#%%\n"
    }
   },
   "outputs": [
    {
     "name": "stdout",
     "output_type": "stream",
     "text": [
      "0\n",
      "1\n",
      "2\n",
      "From the For loop: octopus\n",
      "From the For loop: squid\n",
      "From the For loop: cuttlefish\n",
      "Key:  first name   Value:  Elliott\n",
      "Key:  last name   Value:  Whitling\n",
      "Key:  phone number   Value:  1234567890\n",
      "From the While loop: octopus\n",
      "From the While loop: squid\n",
      "From the While loop: cuttlefish\n",
      "[0, 2, 4, 6, 8]\n",
      "[1, 3, 5, 7, 9]\n"
     ]
    }
   ],
   "source": [
    "i = 0\n",
    "while True:\n",
    "    if i < len(my_list):\n",
    "        print(\"From the While loop:\", my_list[i])\n",
    "    else:\n",
    "        break\n",
    "    i = i + 1\n",
    "    \n",
    "# list comprehensions\n",
    "list_com = [i for i in range(0,10) if i % 2 == 0]\n",
    "print(list_com)\n",
    "\n",
    "list_com = [i+1 for i in range(0,10) if i % 2 == 0]\n",
    "print(list_com)"
   ]
  },
  {
   "cell_type": "code",
   "execution_count": 51,
   "metadata": {},
   "outputs": [
    {
     "name": "stdout",
     "output_type": "stream",
     "text": [
      "2015\n",
      "2016\n",
      "2017\n",
      "2018\n",
      "2019\n",
      "2020\n",
      "Best.Year.Ever.\n",
      "2021\n"
     ]
    }
   ],
   "source": [
    "year = 2015\n",
    "while year <= 2021: \n",
    "    print(year)\n",
    "    if year == 2020:\n",
    "        print(\"Best.Year.Ever.\")\n",
    "    year = year + 1\n"
   ]
  },
  {
   "cell_type": "code",
   "execution_count": 27,
   "metadata": {
    "collapsed": false,
    "jupyter": {
     "outputs_hidden": false
    },
    "pycharm": {
     "name": "#%%\n"
    }
   },
   "outputs": [
    {
     "ename": "AssertionError",
     "evalue": "Asserts check assumptions.",
     "output_type": "error",
     "traceback": [
      "\u001b[0;31m---------------------------------------------------------------------------\u001b[0m",
      "\u001b[0;31mAssertionError\u001b[0m                            Traceback (most recent call last)",
      "\u001b[0;32m<ipython-input-27-fec4bd13821a>\u001b[0m in \u001b[0;36m<module>\u001b[0;34m\u001b[0m\n\u001b[1;32m      1\u001b[0m \u001b[0;31m# asserts\u001b[0m\u001b[0;34m\u001b[0m\u001b[0;34m\u001b[0m\u001b[0;34m\u001b[0m\u001b[0m\n\u001b[0;32m----> 2\u001b[0;31m \u001b[0;32massert\u001b[0m  \u001b[0mmy_boolean\u001b[0m\u001b[0;34m==\u001b[0m\u001b[0;32mTrue\u001b[0m\u001b[0;34m,\u001b[0m \u001b[0;34m\"Asserts check assumptions.\"\u001b[0m\u001b[0;34m\u001b[0m\u001b[0;34m\u001b[0m\u001b[0m\n\u001b[0m",
      "\u001b[0;31mAssertionError\u001b[0m: Asserts check assumptions."
     ]
    }
   ],
   "source": [
    "# asserts\n",
    "assert  my_boolean==True, \"Asserts check assumptions.\""
   ]
  },
  {
   "cell_type": "code",
   "execution_count": 3,
   "metadata": {},
   "outputs": [
    {
     "data": {
      "text/plain": [
       "6"
      ]
     },
     "execution_count": 3,
     "metadata": {},
     "output_type": "execute_result"
    }
   ],
   "source": [
    "def add_one_to_number(x):\n",
    "    new_value = x + 1\n",
    "    \n",
    "    return new_value\n",
    "\n",
    "add_one_to_number(5)"
   ]
  },
  {
   "cell_type": "code",
   "execution_count": 64,
   "metadata": {
    "collapsed": false,
    "jupyter": {
     "outputs_hidden": false
    },
    "pycharm": {
     "name": "#%%\n"
    }
   },
   "outputs": [
    {
     "name": "stdout",
     "output_type": "stream",
     "text": [
      "This Octopus probably an cephalopod. Run away!\n",
      "The Dog is not an cephalopod. Phew!\n"
     ]
    },
    {
     "data": {
      "text/plain": [
       "True"
      ]
     },
     "execution_count": 64,
     "metadata": {},
     "output_type": "execute_result"
    }
   ],
   "source": [
    "# create a function\n",
    "def is_it_an_cephalopod(limbs, thing):\n",
    "\n",
    "    assert type(limbs) == int, \"Limbs must be an integer.\"\n",
    "    assert type(thing) == str, \"Your thing must be a string.\"\n",
    "\n",
    "    if limbs == 8:\n",
    "        print(\"This %s probably an cephalopod. Run away!\" % thing)\n",
    "    else:\n",
    "        print(\"The %s is not an cephalopod. Phew!\" % thing)\n",
    "    \n",
    "    return True\n",
    "\n",
    "is_it_an_cephalopod(8, \"Octopus\")\n",
    "is_it_an_cephalopod(4, \"Dog\")\n"
   ]
  },
  {
   "cell_type": "code",
   "execution_count": null,
   "metadata": {},
   "outputs": [],
   "source": []
  }
 ],
 "metadata": {
  "kernelspec": {
   "display_name": "Python 3",
   "language": "python",
   "name": "python3"
  },
  "language_info": {
   "codemirror_mode": {
    "name": "ipython",
    "version": 3
   },
   "file_extension": ".py",
   "mimetype": "text/x-python",
   "name": "python",
   "nbconvert_exporter": "python",
   "pygments_lexer": "ipython3",
   "version": "3.8.5"
  },
  "pycharm": {
   "stem_cell": {
    "cell_type": "raw",
    "metadata": {
     "collapsed": false
    },
    "source": []
   }
  }
 },
 "nbformat": 4,
 "nbformat_minor": 4
}
