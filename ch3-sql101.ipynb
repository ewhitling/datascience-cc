{
  "cells": [
    {
      "metadata": {
        "pycharm": {
          "name": "#%%\n"
        },
        "trusted": true
      },
      "cell_type": "code",
      "source": "import sqlite3\n\n# connect to the dataset\nmyDB = './data/cephalopod_RnD.db'\nconnection = sqlite3.connect(myDB)\n",
      "execution_count": 1,
      "outputs": []
    },
    {
      "metadata": {
        "trusted": true
      },
      "cell_type": "code",
      "source": "# find out what tables we have\nmySQL = \"SELECT type, name FROM sqlite_master;\"\nresult = connection.execute(mySQL)",
      "execution_count": 2,
      "outputs": []
    },
    {
      "metadata": {
        "trusted": true
      },
      "cell_type": "code",
      "source": "print(type(result))",
      "execution_count": 3,
      "outputs": [
        {
          "output_type": "stream",
          "text": "<class 'sqlite3.Cursor'>\n",
          "name": "stdout"
        }
      ]
    },
    {
      "metadata": {
        "trusted": true
      },
      "cell_type": "code",
      "source": "# iterate over the results\nfor line in result:\n    print(line)",
      "execution_count": 4,
      "outputs": [
        {
          "output_type": "stream",
          "text": "('table', 'cephbase')\n('table', 'spady_predation_bigfin')\n('table', 'spady_predation_pygmy')\n('table', 'spady_defense')\n('table', 'data_sources')\n('index', 'sqlite_autoindex_data_sources_1')\n",
          "name": "stdout"
        }
      ]
    },
    {
      "metadata": {
        "trusted": true
      },
      "cell_type": "code",
      "source": "# look at the data_sources table\nmySQL = \"SELECT * FROM data_sources;\"\nresult = connection.execute(mySQL)\n\n# print only the first line\nprint(result.fetchone())",
      "execution_count": 5,
      "outputs": [
        {
          "output_type": "stream",
          "text": "('cephbase', 'http://cephbase.eol.org/specimen_observation', '2019-05-23', 'FROM URL: CephBase is a repository of data and factual information for the CLASS CEPHALOPODA - squids, octopuses, cuttlefish and nautilus. These remarkable and unique animals are best known to the public for their ability to instantly change color pattern, and for their jet propulsed escape and inking. Cephalopods are keystone species in marine ecosystems, they are important biomedical models for research, and they are the target of substantial fisheries worldwide.', None, None)\n",
          "name": "stdout"
        }
      ]
    },
    {
      "metadata": {
        "trusted": true
      },
      "cell_type": "code",
      "source": "# fetch another row\nrow = result.fetchone()\nprint(type(row))\nprint(row)",
      "execution_count": 6,
      "outputs": [
        {
          "output_type": "stream",
          "text": "<class 'tuple'>\n('spady_defense', 'https://research.jcu.edu.au/researchdata/default/detail/0fa2f5eb2fb95866715589e9800c8736/\\t', '2019-05-23', 'FROM URL: Projected near-future CO2 levels increase activity and alter defensive behaviours in the tropical squid Idiosepius pygmaeus', 'Spady, B.; Watson, S.-A.; Chase, T.; Munday, P. (2018). Projected near-future CO2 levels increase activity and alter defensive behaviours in the tropical squid Idiosepius pygmaeus. James Cook University. (dataset). http://dx.doi.org/10.4225/28/5aa75291e25ad', '10.4225/28/5aa75291e25ad')\n",
          "name": "stdout"
        }
      ]
    },
    {
      "metadata": {
        "trusted": true
      },
      "cell_type": "code",
      "source": "# close the connection\nconnection.close()\n\n# open the connection and create a row factory\nconnection = sqlite3.connect(myDB)\nconnection.row_factory = sqlite3.Row",
      "execution_count": 7,
      "outputs": []
    },
    {
      "metadata": {
        "trusted": true
      },
      "cell_type": "code",
      "source": "# look at the data_sources table\nmySQL = \"SELECT * FROM data_sources\"\nresult = connection.execute(mySQL)\nrow = result.fetchone()\n\n# inspect the data type of a row\nprint(type(row))\nprint(row)",
      "execution_count": 8,
      "outputs": [
        {
          "output_type": "stream",
          "text": "<class 'sqlite3.Row'>\n<sqlite3.Row object at 0x7f4c70bceb50>\n",
          "name": "stdout"
        }
      ]
    },
    {
      "metadata": {
        "trusted": true
      },
      "cell_type": "code",
      "source": "# find the column names\nprint(row.keys())\n\n# print our value\nprint(row['Table'])\n\n# print by index\nprint(row[1:3])",
      "execution_count": 9,
      "outputs": [
        {
          "output_type": "stream",
          "text": "['Table', 'URL', 'Date Accessed', 'Description', 'Citation', 'DOI']\ncephbase\n('http://cephbase.eol.org/specimen_observation', '2019-05-23')\n",
          "name": "stdout"
        }
      ]
    },
    {
      "metadata": {
        "trusted": true
      },
      "cell_type": "code",
      "source": "# print our value\nprint(row['Table'])",
      "execution_count": 10,
      "outputs": [
        {
          "output_type": "stream",
          "text": "cephbase\n",
          "name": "stdout"
        }
      ]
    },
    {
      "metadata": {
        "trusted": true
      },
      "cell_type": "code",
      "source": "# look at the data_sources table\nmySQL = '''\n    SELECT Treatment,\n        LineCrosses,\n        Active,\n        TimetoReact,\n        ReactionType,\n        InkDischarge,\n        BodyPattern \n    FROM spady_defense;'''\nresult = connection.execute(mySQL)\n\nfor line in result:\n    print(line[:])",
      "execution_count": 11,
      "outputs": [
        {
          "output_type": "stream",
          "text": "('Control', 0, 'rest', 'n/a', 'n/a', 'n/a', 'n/a')\n('Control', 0, 'rest', 'n/a', 'n/a', 'n/a', 'n/a')\n('Control', 65, 'high activity', 'n/a', 'n/a', 'n/a', 'n/a')\n('Control', 0, 'rest', 'n/a', 'n/a', 'n/a', 'n/a')\n('Control', 0, 'rest', 'n/a', 'n/a', 'n/a', 'n/a')\n('Control', 136, 'high activity', 'n/a', 'n/a', 'n/a', 'n/a')\n('Control', 0, 'rest', '0.53333333', 'defence', 'no', 'deimatic')\n('Control', 0, 'rest', '0.1333333', 'jet', 'no', 'no change')\n('Control', 0, 'rest', '0.16666667', 'jet', 'no', 'no change')\n('Control', 0, 'rest', '1.1', 'jet', 'no', 'no change')\n('Control', 0, 'rest', 'n/a', 'n/a', 'n/a', 'n/a')\n('Control', 4, 'low activity', 'n/a', 'n/a', 'no', 'deimatic')\n('Control', 0, 'rest', '0.56666667', 'defence', 'yes', 'no change')\n('Control', 0, 'rest', '0.46666667', 'defence', 'no', 'deimatic')\n('Control', 0, 'rest', 'n/a', 'n/a', 'no', 'no change')\n('Control', 0, 'rest', '0.3', 'defence', 'no', 'deimatic')\n('Control', 0, 'rest', '0.16666667', 'jet', 'yes', 'no change')\n('Control', 0, 'rest', 'n/a', 'n/a', 'no', 'no change')\n('Control', 0, 'rest', '0.5', 'jet', 'no', 'no change')\n('Control', 0, 'rest', '0.53333333', 'defence', 'no', 'deimatic')\n('Control', 0, 'rest', '0.63333333', 'defence', 'no', 'deimatic')\n('Control', 4, 'low activity', '0.16666667', 'jet', 'no', 'transparent')\n('Control', 0, 'rest', '0.4', 'jet', 'yes', 'transparent')\n('Control', 0, 'rest', '0.1', 'jet', 'yes', 'transparent')\n('Control', 0, 'rest', '0.46666667', 'jet', 'yes', 'transparent')\n('Control', 0, 'rest', '0.23333333', 'defence', 'no', 'no change')\n('Control', 66, 'high activity', '0.66666667', 'defence', 'no', 'deimatic')\n('Control', 0, 'rest', '0.5', 'defence', 'no', 'deimatic')\n('Control', 0, 'rest', '0.36666667', 'defence', 'no', 'deimatic')\n('Control', 0, 'rest', 'n/a', 'n/a', 'n/a', 'n/a')\n('Control', 6, 'low activity', '0.3', 'jet', 'yes', 'transparent')\n('Mid', 369, 'high activity', 'n/a', 'n/a', 'n/a', 'n/a')\n('Mid', 27, 'high activity', 'n/a', 'n/a', 'n/a', 'n/a')\n('Mid', 0, 'rest', 'n/a', 'n/a', 'n/a', 'n/a')\n('Mid', 38, 'high activity', '1.933333333', 'jet', 'no', 'no change')\n('Mid', 0, 'rest', '0.4', 'defence', 'no', 'deimatic')\n('Mid', 350, 'high activity', '0.7333333', 'jet', 'yes', 'no change')\n('Mid', 0, 'rest', '0.56666667', 'jet', 'no', 'transparent')\n('Mid', 0, 'rest', '0.33333333', 'defence', 'no', 'deimatic')\n('Mid', 0, 'rest', '0.76666667', 'jet', 'no', 'no change')\n('Mid', 348, 'high activity', 'n/a', 'n/a', 'no', 'no change')\n('Mid', 33, 'high activity', '0.26666667', 'jet', 'yes', 'transparent')\n('Mid', 0, 'rest', '0.23333333', 'jet', 'yes', 'no change')\n('Mid', 0, 'rest', '0.9', 'jet', 'yes', 'no change')\n('Mid', 0, 'rest', '0.5', 'jet', 'yes', 'transparent')\n('Mid', 0, 'rest', '0.46666667', 'jet', 'no', 'transparent')\n('Mid', 0, 'rest', 'n/a', 'n/a', 'no', 'no change')\n('Mid', 204, 'high activity', '0.3', 'jet', 'yes', 'no change')\n('Mid', 0, 'rest', 'n/a', 'n/a', 'no', 'no change')\n('Mid', 0, 'rest', '0.33333333', 'jet', 'no', 'deimatic')\n('Mid', 0, 'rest', 'n/a', 'n/a', 'no', 'no change')\n('Mid', 25, 'low activity', '0.76666667', 'jet', 'yes', 'deimatic')\n('Mid', 51, 'high activity', 'n/a', 'n/a', 'n/a', 'n/a')\n('Mid', 0, 'rest', '0.5333333', 'jet', 'yes', 'transparent')\n('Mid', 0, 'rest', 'n/a', 'n/a', 'n/a', 'n/a')\n('Mid', 12, 'low activity', '0.5', 'jet', 'yes', 'transparent')\n('Mid', 8, 'low activity', '0.56666667', 'jet', 'yes', 'transparent')\n('Mid', 172, 'high activity', '0.8', 'jet', 'yes', 'transparent')\n('High', 49, 'high activity', 'n/a', 'n/a', 'n/a', 'n/a')\n('High', 79, 'high activity', 'n/a', 'n/a', 'n/a', 'n/a')\n('High', 119, 'high activity', 'n/a', 'n/a', 'n/a', 'n/a')\n('High', 0, 'rest', 'n/a', 'n/a', 'n/a', 'n/a')\n('High', 137, 'high activity', 'n/a', 'n/a', 'n/a', 'n/a')\n('High', 102, 'high activity', 'n/a', 'n/a', 'n/a', 'n/a')\n('High', 0, 'rest', 'n/a', 'n/a', 'n/a', 'no change')\n('High', 445, 'high activity', 'n/a', 'n/a', 'n/a', 'no change')\n('High', 0, 'rest', '0.066666667', 'jet', 'no', 'no change')\n('High', 117, 'high activity', '0.8', 'defence', 'no', 'no change')\n('High', 0, 'rest', '0.5', 'jet', 'yes', 'no change')\n('High', 0, 'rest', 'n/a', 'n/a', 'no', 'flash')\n('High', 0, 'rest', 'n/a', 'n/a', 'no', 'flash')\n('High', 0, 'rest', '0.33333333', 'jet', 'yes', 'transparent')\n('High', 67, 'high activity', '0.2', 'jet', 'yes', 'transparent')\n('High', 0, 'rest', '0.3', 'jet', 'yes', 'no change')\n('High', 0, 'rest', '1.13333333', 'defence', 'no', 'transparent')\n('High', 0, 'rest', 'n/a', 'n/a', 'no', 'no change')\n('High', 0, 'rest', '0.26666667', 'jet', 'yes', 'no change')\n('High', 0, 'rest', '0.36666667', 'jet', 'no', 'n/a')\n('High', 0, 'rest', '0.36666667', 'jet', 'yes', 'transparent')\n('High', 35, 'high activity', 'n/a', 'n/a', 'n/a', 'deimatic')\n('High', 0, 'rest', 'n/a', 'jet', 'yes', 'flash')\n('High', 0, 'rest', '0.4333333', 'jet', 'yes', 'flash')\n('High', 48, 'high activity', '0.46666667', 'jet', 'yes', 'transparent')\n('High', 0, 'rest', '0.53333333', 'jet', 'yes', 'n/a')\n('High', 0, 'rest', '0.26666667', 'jet', 'yes', 'n/a')\n('High', 0, 'rest', '0.53333333', 'jet', 'yes', 'no change')\n('High', 287, 'high activity', '0.5', 'defence', 'no', 'no change')\n",
          "name": "stdout"
        }
      ]
    },
    {
      "metadata": {
        "trusted": true
      },
      "cell_type": "code",
      "source": "# look at the data_sources table\nmySQL = '''\n    SELECT Treatment,\n        LineCrosses,\n        Active,\n        TimetoReact,\n        ReactionType,\n        InkDischarge,\n        BodyPattern \n    FROM spady_defense\n    WHERE Treatment = 'Mid';'''\nresult = connection.execute(mySQL)\n\nprint(len(result.fetchall()))",
      "execution_count": 12,
      "outputs": [
        {
          "output_type": "stream",
          "text": "27\n",
          "name": "stdout"
        }
      ]
    },
    {
      "metadata": {
        "trusted": true
      },
      "cell_type": "code",
      "source": "# look at the data_sources table\nmySQL = '''\n    SELECT Treatment,\n        LineCrosses,\n        Active,\n        TimetoReact,\n        ReactionType,\n        InkDischarge,\n        BodyPattern \n    FROM spady_defense\n    WHERE Treatment <> 'Mid' and LineCrosses > 8;'''\nresult = connection.execute(mySQL)\n\nprint(len(result.fetchall()))",
      "execution_count": 13,
      "outputs": [
        {
          "output_type": "stream",
          "text": "14\n",
          "name": "stdout"
        }
      ]
    },
    {
      "metadata": {
        "trusted": true
      },
      "cell_type": "code",
      "source": "# look at the data_sources table\nmySQL = '''\n    SELECT Treatment,\n        LineCrosses,\n        Active,\n        TimetoReact,\n        ReactionType,\n        InkDischarge,\n        BodyPattern \n    FROM spady_defense\n    WHERE Treatment <> 'Mid' and LineCrosses > 8\n    ORDER BY LineCrosses;'''\nresult = connection.execute(mySQL)\n\nfor line in result:\n    print(line[:])",
      "execution_count": 14,
      "outputs": [
        {
          "output_type": "stream",
          "text": "('High', 35, 'high activity', 'n/a', 'n/a', 'n/a', 'deimatic')\n('High', 48, 'high activity', '0.46666667', 'jet', 'yes', 'transparent')\n('High', 49, 'high activity', 'n/a', 'n/a', 'n/a', 'n/a')\n('Control', 65, 'high activity', 'n/a', 'n/a', 'n/a', 'n/a')\n('Control', 66, 'high activity', '0.66666667', 'defence', 'no', 'deimatic')\n('High', 67, 'high activity', '0.2', 'jet', 'yes', 'transparent')\n('High', 79, 'high activity', 'n/a', 'n/a', 'n/a', 'n/a')\n('High', 102, 'high activity', 'n/a', 'n/a', 'n/a', 'n/a')\n('High', 117, 'high activity', '0.8', 'defence', 'no', 'no change')\n('High', 119, 'high activity', 'n/a', 'n/a', 'n/a', 'n/a')\n('Control', 136, 'high activity', 'n/a', 'n/a', 'n/a', 'n/a')\n('High', 137, 'high activity', 'n/a', 'n/a', 'n/a', 'n/a')\n('High', 287, 'high activity', '0.5', 'defence', 'no', 'no change')\n('High', 445, 'high activity', 'n/a', 'n/a', 'n/a', 'no change')\n",
          "name": "stdout"
        }
      ]
    }
  ],
  "metadata": {
    "language_info": {
      "mimetype": "text/x-python",
      "nbconvert_exporter": "python",
      "name": "python",
      "file_extension": ".py",
      "version": "3.5.4",
      "pygments_lexer": "ipython3",
      "codemirror_mode": {
        "version": 3,
        "name": "ipython"
      }
    },
    "kernelspec": {
      "name": "python3",
      "display_name": "Python 3",
      "language": "python"
    },
    "pycharm": {
      "stem_cell": {
        "cell_type": "raw",
        "source": [],
        "metadata": {
          "collapsed": false
        }
      }
    }
  },
  "nbformat": 4,
  "nbformat_minor": 2
}