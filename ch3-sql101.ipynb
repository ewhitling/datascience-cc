{
 "cells": [
  {
   "metadata": {
    "pycharm": {
     "name": "#%%\n",
     "is_executing": false
    },
    "trusted": true
   },
   "cell_type": "code",
   "source": [
    "import sqlite3\n",
    "\n",
    "# connect to the dataset\n",
    "myDB = './data/cephalopod_RnD.db'\n",
    "connection = sqlite3.connect(myDB)\n"
   ],
   "execution_count": 1,
   "outputs": []
  },
  {
   "metadata": {
    "trusted": true,
    "pycharm": {
     "is_executing": false
    }
   },
   "cell_type": "code",
   "source": [
    "# find out what tables we have\n",
    "mySQL = \"SELECT type, name FROM sqlite_master;\"\n",
    "result = connection.execute(mySQL)"
   ],
   "execution_count": 2,
   "outputs": []
  },
  {
   "metadata": {
    "trusted": true,
    "pycharm": {
     "is_executing": false
    }
   },
   "cell_type": "code",
   "source": [
    "print(type(result))"
   ],
   "execution_count": 4,
   "outputs": [
    {
     "name": "stdout",
     "text": [
      "<class 'sqlite3.Cursor'>\n"
     ],
     "output_type": "stream"
    }
   ]
  },
  {
   "metadata": {
    "trusted": true,
    "pycharm": {
     "is_executing": false
    }
   },
   "cell_type": "code",
   "source": [
    "# iterate over the results\n",
    "for line in result:\n",
    "    print(line)"
   ],
   "execution_count": 5,
   "outputs": [
    {
     "name": "stdout",
     "text": [
      "('table', 'cephbase')\n",
      "('table', 'spady_predation_bigfin')\n",
      "('table', 'spady_predation_pygmy')\n",
      "('table', 'spady_defense')\n",
      "('table', 'data_sources')\n",
      "('index', 'sqlite_autoindex_data_sources_1')\n",
      "('table', 'spady_defense_treatments')\n",
      "('index', 'sqlite_autoindex_spady_defense_treatments_1')\n"
     ],
     "output_type": "stream"
    }
   ]
  },
  {
   "metadata": {
    "trusted": true,
    "pycharm": {
     "is_executing": false
    }
   },
   "cell_type": "code",
   "source": [
    "# look at the data_sources table\n",
    "mySQL = \"SELECT * FROM data_sources;\"\n",
    "result = connection.execute(mySQL)\n",
    "\n",
    "# print only the first line\n",
    "print(result.fetchone())"
   ],
   "execution_count": 6,
   "outputs": [
    {
     "name": "stdout",
     "text": [
      "('cephbase', 'http://cephbase.eol.org/specimen_observation', '2019-05-23', 'FROM URL: CephBase is a repository of data and factual information for the CLASS CEPHALOPODA - squids, octopuses, cuttlefish and nautilus. These remarkable and unique animals are best known to the public for their ability to instantly change color pattern, and for their jet propulsed escape and inking. Cephalopods are keystone species in marine ecosystems, they are important biomedical models for research, and they are the target of substantial fisheries worldwide.', None, None)\n"
     ],
     "output_type": "stream"
    }
   ]
  },
  {
   "metadata": {
    "trusted": true,
    "pycharm": {
     "is_executing": false
    }
   },
   "cell_type": "code",
   "source": [
    "# fetch another row\n",
    "row = result.fetchone()\n",
    "print(type(row))\n",
    "print(row)"
   ],
   "execution_count": 7,
   "outputs": [
    {
     "name": "stdout",
     "text": [
      "<class 'tuple'>\n",
      "('spady_defense', 'https://research.jcu.edu.au/researchdata/default/detail/0fa2f5eb2fb95866715589e9800c8736/\\t', '2019-05-23', 'FROM URL: Projected near-future CO2 levels increase activity and alter defensive behaviours in the tropical squid Idiosepius pygmaeus', 'Spady, B.; Watson, S.-A.; Chase, T.; Munday, P. (2018). Projected near-future CO2 levels increase activity and alter defensive behaviours in the tropical squid Idiosepius pygmaeus. James Cook University. (dataset). http://dx.doi.org/10.4225/28/5aa75291e25ad', '10.4225/28/5aa75291e25ad')\n"
     ],
     "output_type": "stream"
    }
   ]
  },
  {
   "metadata": {
    "trusted": true,
    "pycharm": {
     "is_executing": false
    }
   },
   "cell_type": "code",
   "source": [
    "# close the connection\n",
    "connection.close()\n",
    "\n",
    "# open the connection and create a row factory\n",
    "connection = sqlite3.connect(myDB)\n",
    "connection.row_factory = sqlite3.Row"
   ],
   "execution_count": 8,
   "outputs": []
  },
  {
   "metadata": {
    "trusted": true,
    "pycharm": {
     "is_executing": false
    }
   },
   "cell_type": "code",
   "source": [
    "# look at the data_sources table\n",
    "mySQL = \"SELECT * FROM data_sources\"\n",
    "result = connection.execute(mySQL)\n",
    "row = result.fetchone()\n",
    "\n",
    "# inspect the data type of a row\n",
    "print(type(row))\n",
    "print(row)"
   ],
   "execution_count": 9,
   "outputs": [
    {
     "name": "stdout",
     "text": [
      "<class 'sqlite3.Row'>\n",
      "<sqlite3.Row object at 0x10a9804d0>\n"
     ],
     "output_type": "stream"
    }
   ]
  },
  {
   "metadata": {
    "trusted": true,
    "pycharm": {
     "is_executing": false
    }
   },
   "cell_type": "code",
   "source": [
    "# look at the data_sources table\n",
    "mySQL = \"SELECT * FROM spady_defense\"\n",
    "# 'spady_defense_treatments'\n",
    "result = connection.execute(mySQL)\n",
    "row = result.fetchall()\n",
    "\n",
    "for line in row:\n",
    "    print(line[:])"
   ],
   "execution_count": 18,
   "outputs": [
    {
     "name": "stdout",
     "text": [
      "('Control', 0, 'rest', 'n/a', 'n/a', 'n/a', 'n/a', None, None, None, None, None)\n",
      "('Control', 0, 'rest', 'n/a', 'n/a', 'n/a', 'n/a', None, None, None, None, None)\n",
      "('Control', 65, 'high activity', 'n/a', 'n/a', 'n/a', 'n/a', None, None, None, None, None)\n",
      "('Control', 0, 'rest', 'n/a', 'n/a', 'n/a', 'n/a', None, None, None, None, None)\n",
      "('Control', 0, 'rest', 'n/a', 'n/a', 'n/a', 'n/a', None, None, None, None, None)\n",
      "('Control', 136, 'high activity', 'n/a', 'n/a', 'n/a', 'n/a', None, None, None, None, None)\n",
      "('Control', 0, 'rest', '0.53333333', 'defence', 'no', 'deimatic', None, None, None, None, None)\n",
      "('Control', 0, 'rest', '0.1333333', 'jet', 'no', 'no change', None, None, None, None, None)\n",
      "('Control', 0, 'rest', '0.16666667', 'jet', 'no', 'no change', None, None, None, None, None)\n",
      "('Control', 0, 'rest', '1.1', 'jet', 'no', 'no change', None, None, None, None, None)\n",
      "('Control', 0, 'rest', 'n/a', 'n/a', 'n/a', 'n/a', None, None, None, None, None)\n",
      "('Control', 4, 'low activity', 'n/a', 'n/a', 'no', 'deimatic', None, None, None, None, None)\n",
      "('Control', 0, 'rest', '0.56666667', 'defence', 'yes', 'no change', None, None, None, None, None)\n",
      "('Control', 0, 'rest', '0.46666667', 'defence', 'no', 'deimatic', None, None, None, None, None)\n",
      "('Control', 0, 'rest', 'n/a', 'n/a', 'no', 'no change', None, None, None, None, None)\n",
      "('Control', 0, 'rest', '0.3', 'defence', 'no', 'deimatic', None, None, None, None, None)\n",
      "('Control', 0, 'rest', '0.16666667', 'jet', 'yes', 'no change', None, None, None, None, None)\n",
      "('Control', 0, 'rest', 'n/a', 'n/a', 'no', 'no change', None, None, None, None, None)\n",
      "('Control', 0, 'rest', '0.5', 'jet', 'no', 'no change', None, None, None, None, None)\n",
      "('Control', 0, 'rest', '0.53333333', 'defence', 'no', 'deimatic', None, None, None, None, None)\n",
      "('Control', 0, 'rest', '0.63333333', 'defence', 'no', 'deimatic', None, None, None, None, None)\n",
      "('Control', 4, 'low activity', '0.16666667', 'jet', 'no', 'transparent', None, None, None, None, None)\n",
      "('Control', 0, 'rest', '0.4', 'jet', 'yes', 'transparent', None, None, None, None, None)\n",
      "('Control', 0, 'rest', '0.1', 'jet', 'yes', 'transparent', None, None, None, None, None)\n",
      "('Control', 0, 'rest', '0.46666667', 'jet', 'yes', 'transparent', None, None, None, None, None)\n",
      "('Control', 0, 'rest', '0.23333333', 'defence', 'no', 'no change', None, None, None, None, None)\n",
      "('Control', 66, 'high activity', '0.66666667', 'defence', 'no', 'deimatic', None, None, None, None, None)\n",
      "('Control', 0, 'rest', '0.5', 'defence', 'no', 'deimatic', None, None, None, None, None)\n",
      "('Control', 0, 'rest', '0.36666667', 'defence', 'no', 'deimatic', None, None, None, None, None)\n",
      "('Control', 0, 'rest', 'n/a', 'n/a', 'n/a', 'n/a', None, None, None, None, None)\n",
      "('Control', 6, 'low activity', '0.3', 'jet', 'yes', 'transparent', None, None, None, None, None)\n",
      "('Mid', 369, 'high activity', 'n/a', 'n/a', 'n/a', 'n/a', None, None, None, None, None)\n",
      "('Mid', 27, 'high activity', 'n/a', 'n/a', 'n/a', 'n/a', None, None, None, None, None)\n",
      "('Mid', 0, 'rest', 'n/a', 'n/a', 'n/a', 'n/a', None, None, None, None, None)\n",
      "('Mid', 38, 'high activity', '1.933333333', 'jet', 'no', 'no change', None, None, None, None, None)\n",
      "('Mid', 0, 'rest', '0.4', 'defence', 'no', 'deimatic', None, None, None, None, None)\n",
      "('Mid', 350, 'high activity', '0.7333333', 'jet', 'yes', 'no change', None, None, None, None, None)\n",
      "('Mid', 0, 'rest', '0.56666667', 'jet', 'no', 'transparent', None, None, None, None, None)\n",
      "('Mid', 0, 'rest', '0.33333333', 'defence', 'no', 'deimatic', None, None, None, None, None)\n",
      "('Mid', 0, 'rest', '0.76666667', 'jet', 'no', 'no change', None, None, None, None, None)\n",
      "('Mid', 348, 'high activity', 'n/a', 'n/a', 'no', 'no change', None, None, None, None, None)\n",
      "('Mid', 33, 'high activity', '0.26666667', 'jet', 'yes', 'transparent', None, None, None, None, None)\n",
      "('Mid', 0, 'rest', '0.23333333', 'jet', 'yes', 'no change', None, None, None, None, None)\n",
      "('Mid', 0, 'rest', '0.9', 'jet', 'yes', 'no change', None, None, None, None, None)\n",
      "('Mid', 0, 'rest', '0.5', 'jet', 'yes', 'transparent', None, None, None, None, None)\n",
      "('Mid', 0, 'rest', '0.46666667', 'jet', 'no', 'transparent', None, None, None, None, None)\n",
      "('Mid', 0, 'rest', 'n/a', 'n/a', 'no', 'no change', None, None, None, None, None)\n",
      "('Mid', 204, 'high activity', '0.3', 'jet', 'yes', 'no change', None, None, None, None, None)\n",
      "('Mid', 0, 'rest', 'n/a', 'n/a', 'no', 'no change', None, None, None, None, None)\n",
      "('Mid', 0, 'rest', '0.33333333', 'jet', 'no', 'deimatic', None, None, None, None, None)\n",
      "('Mid', 0, 'rest', 'n/a', 'n/a', 'no', 'no change', None, None, None, None, None)\n",
      "('Mid', 25, 'low activity', '0.76666667', 'jet', 'yes', 'deimatic', None, None, None, None, None)\n",
      "('Mid', 51, 'high activity', 'n/a', 'n/a', 'n/a', 'n/a', None, None, None, None, None)\n",
      "('Mid', 0, 'rest', '0.5333333', 'jet', 'yes', 'transparent', None, None, None, None, None)\n",
      "('Mid', 0, 'rest', 'n/a', 'n/a', 'n/a', 'n/a', None, None, None, None, None)\n",
      "('Mid', 12, 'low activity', '0.5', 'jet', 'yes', 'transparent', None, None, None, None, None)\n",
      "('Mid', 8, 'low activity', '0.56666667', 'jet', 'yes', 'transparent', None, None, None, None, None)\n",
      "('Mid', 172, 'high activity', '0.8', 'jet', 'yes', 'transparent', None, None, None, None, None)\n",
      "('High', 49, 'high activity', 'n/a', 'n/a', 'n/a', 'n/a', None, None, None, None, None)\n",
      "('High', 79, 'high activity', 'n/a', 'n/a', 'n/a', 'n/a', None, None, None, None, None)\n",
      "('High', 119, 'high activity', 'n/a', 'n/a', 'n/a', 'n/a', None, None, None, None, None)\n",
      "('High', 0, 'rest', 'n/a', 'n/a', 'n/a', 'n/a', None, None, None, None, None)\n",
      "('High', 137, 'high activity', 'n/a', 'n/a', 'n/a', 'n/a', None, None, None, None, None)\n",
      "('High', 102, 'high activity', 'n/a', 'n/a', 'n/a', 'n/a', None, None, None, None, None)\n",
      "('High', 0, 'rest', 'n/a', 'n/a', 'n/a', 'no change', None, None, None, None, None)\n",
      "('High', 445, 'high activity', 'n/a', 'n/a', 'n/a', 'no change', None, None, None, None, None)\n",
      "('High', 0, 'rest', '0.066666667', 'jet', 'no', 'no change', None, None, None, None, None)\n",
      "('High', 117, 'high activity', '0.8', 'defence', 'no', 'no change', None, None, None, None, None)\n",
      "('High', 0, 'rest', '0.5', 'jet', 'yes', 'no change', None, None, None, None, None)\n",
      "('High', 0, 'rest', 'n/a', 'n/a', 'no', 'flash', None, None, None, None, None)\n",
      "('High', 0, 'rest', 'n/a', 'n/a', 'no', 'flash', None, None, None, None, None)\n",
      "('High', 0, 'rest', '0.33333333', 'jet', 'yes', 'transparent', None, None, None, None, None)\n",
      "('High', 67, 'high activity', '0.2', 'jet', 'yes', 'transparent', None, None, None, None, None)\n",
      "('High', 0, 'rest', '0.3', 'jet', 'yes', 'no change', None, None, None, None, None)\n",
      "('High', 0, 'rest', '1.13333333', 'defence', 'no', 'transparent', None, None, None, None, None)\n",
      "('High', 0, 'rest', 'n/a', 'n/a', 'no', 'no change', None, None, None, None, None)\n",
      "('High', 0, 'rest', '0.26666667', 'jet', 'yes', 'no change', None, None, None, None, None)\n",
      "('High', 0, 'rest', '0.36666667', 'jet', 'no', 'n/a', None, None, None, None, None)\n",
      "('High', 0, 'rest', '0.36666667', 'jet', 'yes', 'transparent', None, None, None, None, None)\n",
      "('High', 35, 'high activity', 'n/a', 'n/a', 'n/a', 'deimatic', None, None, None, None, None)\n",
      "('High', 0, 'rest', 'n/a', 'jet', 'yes', 'flash', None, None, None, None, None)\n",
      "('High', 0, 'rest', '0.4333333', 'jet', 'yes', 'flash', None, None, None, None, None)\n",
      "('High', 48, 'high activity', '0.46666667', 'jet', 'yes', 'transparent', None, None, None, None, None)\n",
      "('High', 0, 'rest', '0.53333333', 'jet', 'yes', 'n/a', None, None, None, None, None)\n",
      "('High', 0, 'rest', '0.26666667', 'jet', 'yes', 'n/a', None, None, None, None, None)\n",
      "('High', 0, 'rest', '0.53333333', 'jet', 'yes', 'no change', None, None, None, None, None)\n",
      "('High', 287, 'high activity', '0.5', 'defence', 'no', 'no change', None, None, None, None, None)\n"
     ],
     "output_type": "stream"
    }
   ]
  },
  {
   "cell_type": "code",
   "execution_count": null,
   "outputs": [],
   "source": [
    "\n",
    "# find the column names\n",
    "print(row.keys())\n",
    "\n",
    "# print our value\n",
    "print(row['Table'])\n",
    "\n",
    "# print by index\n",
    "print(row[1:3])"
   ],
   "metadata": {
    "collapsed": false,
    "pycharm": {
     "name": "#%%\n"
    }
   }
  },
  {
   "metadata": {
    "trusted": true,
    "pycharm": {
     "is_executing": false
    }
   },
   "cell_type": "code",
   "source": [
    "# print our value\n",
    "print(row['Table'])"
   ],
   "execution_count": 11,
   "outputs": [
    {
     "name": "stdout",
     "text": [
      "cephbase\n"
     ],
     "output_type": "stream"
    }
   ]
  },
  {
   "metadata": {
    "trusted": true
   },
   "cell_type": "code",
   "source": "# look at the data_sources table\nmySQL = '''\n    SELECT Treatment,\n        LineCrosses,\n        Active,\n        TimetoReact,\n        ReactionType,\n        InkDischarge,\n        BodyPattern \n    FROM spady_defense;'''\nresult = connection.execute(mySQL)\n\nfor line in result:\n    print(line[:])",
   "execution_count": 11,
   "outputs": [
    {
     "output_type": "stream",
     "text": "('Control', 0, 'rest', 'n/a', 'n/a', 'n/a', 'n/a')\n('Control', 0, 'rest', 'n/a', 'n/a', 'n/a', 'n/a')\n('Control', 65, 'high activity', 'n/a', 'n/a', 'n/a', 'n/a')\n('Control', 0, 'rest', 'n/a', 'n/a', 'n/a', 'n/a')\n('Control', 0, 'rest', 'n/a', 'n/a', 'n/a', 'n/a')\n('Control', 136, 'high activity', 'n/a', 'n/a', 'n/a', 'n/a')\n('Control', 0, 'rest', '0.53333333', 'defence', 'no', 'deimatic')\n('Control', 0, 'rest', '0.1333333', 'jet', 'no', 'no change')\n('Control', 0, 'rest', '0.16666667', 'jet', 'no', 'no change')\n('Control', 0, 'rest', '1.1', 'jet', 'no', 'no change')\n('Control', 0, 'rest', 'n/a', 'n/a', 'n/a', 'n/a')\n('Control', 4, 'low activity', 'n/a', 'n/a', 'no', 'deimatic')\n('Control', 0, 'rest', '0.56666667', 'defence', 'yes', 'no change')\n('Control', 0, 'rest', '0.46666667', 'defence', 'no', 'deimatic')\n('Control', 0, 'rest', 'n/a', 'n/a', 'no', 'no change')\n('Control', 0, 'rest', '0.3', 'defence', 'no', 'deimatic')\n('Control', 0, 'rest', '0.16666667', 'jet', 'yes', 'no change')\n('Control', 0, 'rest', 'n/a', 'n/a', 'no', 'no change')\n('Control', 0, 'rest', '0.5', 'jet', 'no', 'no change')\n('Control', 0, 'rest', '0.53333333', 'defence', 'no', 'deimatic')\n('Control', 0, 'rest', '0.63333333', 'defence', 'no', 'deimatic')\n('Control', 4, 'low activity', '0.16666667', 'jet', 'no', 'transparent')\n('Control', 0, 'rest', '0.4', 'jet', 'yes', 'transparent')\n('Control', 0, 'rest', '0.1', 'jet', 'yes', 'transparent')\n('Control', 0, 'rest', '0.46666667', 'jet', 'yes', 'transparent')\n('Control', 0, 'rest', '0.23333333', 'defence', 'no', 'no change')\n('Control', 66, 'high activity', '0.66666667', 'defence', 'no', 'deimatic')\n('Control', 0, 'rest', '0.5', 'defence', 'no', 'deimatic')\n('Control', 0, 'rest', '0.36666667', 'defence', 'no', 'deimatic')\n('Control', 0, 'rest', 'n/a', 'n/a', 'n/a', 'n/a')\n('Control', 6, 'low activity', '0.3', 'jet', 'yes', 'transparent')\n('Mid', 369, 'high activity', 'n/a', 'n/a', 'n/a', 'n/a')\n('Mid', 27, 'high activity', 'n/a', 'n/a', 'n/a', 'n/a')\n('Mid', 0, 'rest', 'n/a', 'n/a', 'n/a', 'n/a')\n('Mid', 38, 'high activity', '1.933333333', 'jet', 'no', 'no change')\n('Mid', 0, 'rest', '0.4', 'defence', 'no', 'deimatic')\n('Mid', 350, 'high activity', '0.7333333', 'jet', 'yes', 'no change')\n('Mid', 0, 'rest', '0.56666667', 'jet', 'no', 'transparent')\n('Mid', 0, 'rest', '0.33333333', 'defence', 'no', 'deimatic')\n('Mid', 0, 'rest', '0.76666667', 'jet', 'no', 'no change')\n('Mid', 348, 'high activity', 'n/a', 'n/a', 'no', 'no change')\n('Mid', 33, 'high activity', '0.26666667', 'jet', 'yes', 'transparent')\n('Mid', 0, 'rest', '0.23333333', 'jet', 'yes', 'no change')\n('Mid', 0, 'rest', '0.9', 'jet', 'yes', 'no change')\n('Mid', 0, 'rest', '0.5', 'jet', 'yes', 'transparent')\n('Mid', 0, 'rest', '0.46666667', 'jet', 'no', 'transparent')\n('Mid', 0, 'rest', 'n/a', 'n/a', 'no', 'no change')\n('Mid', 204, 'high activity', '0.3', 'jet', 'yes', 'no change')\n('Mid', 0, 'rest', 'n/a', 'n/a', 'no', 'no change')\n('Mid', 0, 'rest', '0.33333333', 'jet', 'no', 'deimatic')\n('Mid', 0, 'rest', 'n/a', 'n/a', 'no', 'no change')\n('Mid', 25, 'low activity', '0.76666667', 'jet', 'yes', 'deimatic')\n('Mid', 51, 'high activity', 'n/a', 'n/a', 'n/a', 'n/a')\n('Mid', 0, 'rest', '0.5333333', 'jet', 'yes', 'transparent')\n('Mid', 0, 'rest', 'n/a', 'n/a', 'n/a', 'n/a')\n('Mid', 12, 'low activity', '0.5', 'jet', 'yes', 'transparent')\n('Mid', 8, 'low activity', '0.56666667', 'jet', 'yes', 'transparent')\n('Mid', 172, 'high activity', '0.8', 'jet', 'yes', 'transparent')\n('High', 49, 'high activity', 'n/a', 'n/a', 'n/a', 'n/a')\n('High', 79, 'high activity', 'n/a', 'n/a', 'n/a', 'n/a')\n('High', 119, 'high activity', 'n/a', 'n/a', 'n/a', 'n/a')\n('High', 0, 'rest', 'n/a', 'n/a', 'n/a', 'n/a')\n('High', 137, 'high activity', 'n/a', 'n/a', 'n/a', 'n/a')\n('High', 102, 'high activity', 'n/a', 'n/a', 'n/a', 'n/a')\n('High', 0, 'rest', 'n/a', 'n/a', 'n/a', 'no change')\n('High', 445, 'high activity', 'n/a', 'n/a', 'n/a', 'no change')\n('High', 0, 'rest', '0.066666667', 'jet', 'no', 'no change')\n('High', 117, 'high activity', '0.8', 'defence', 'no', 'no change')\n('High', 0, 'rest', '0.5', 'jet', 'yes', 'no change')\n('High', 0, 'rest', 'n/a', 'n/a', 'no', 'flash')\n('High', 0, 'rest', 'n/a', 'n/a', 'no', 'flash')\n('High', 0, 'rest', '0.33333333', 'jet', 'yes', 'transparent')\n('High', 67, 'high activity', '0.2', 'jet', 'yes', 'transparent')\n('High', 0, 'rest', '0.3', 'jet', 'yes', 'no change')\n('High', 0, 'rest', '1.13333333', 'defence', 'no', 'transparent')\n('High', 0, 'rest', 'n/a', 'n/a', 'no', 'no change')\n('High', 0, 'rest', '0.26666667', 'jet', 'yes', 'no change')\n('High', 0, 'rest', '0.36666667', 'jet', 'no', 'n/a')\n('High', 0, 'rest', '0.36666667', 'jet', 'yes', 'transparent')\n('High', 35, 'high activity', 'n/a', 'n/a', 'n/a', 'deimatic')\n('High', 0, 'rest', 'n/a', 'jet', 'yes', 'flash')\n('High', 0, 'rest', '0.4333333', 'jet', 'yes', 'flash')\n('High', 48, 'high activity', '0.46666667', 'jet', 'yes', 'transparent')\n('High', 0, 'rest', '0.53333333', 'jet', 'yes', 'n/a')\n('High', 0, 'rest', '0.26666667', 'jet', 'yes', 'n/a')\n('High', 0, 'rest', '0.53333333', 'jet', 'yes', 'no change')\n('High', 287, 'high activity', '0.5', 'defence', 'no', 'no change')\n",
     "name": "stdout"
    }
   ]
  },
  {
   "metadata": {
    "trusted": true
   },
   "cell_type": "code",
   "source": "# look at the data_sources table\nmySQL = '''\n    SELECT Treatment,\n        LineCrosses,\n        Active,\n        TimetoReact,\n        ReactionType,\n        InkDischarge,\n        BodyPattern \n    FROM spady_defense\n    WHERE Treatment = 'Mid';'''\nresult = connection.execute(mySQL)\n\nprint(len(result.fetchall()))",
   "execution_count": 12,
   "outputs": [
    {
     "output_type": "stream",
     "text": "27\n",
     "name": "stdout"
    }
   ]
  },
  {
   "metadata": {
    "trusted": true
   },
   "cell_type": "code",
   "source": "# look at the data_sources table\nmySQL = '''\n    SELECT Treatment,\n        LineCrosses,\n        Active,\n        TimetoReact,\n        ReactionType,\n        InkDischarge,\n        BodyPattern \n    FROM spady_defense\n    WHERE Treatment <> 'Mid' and LineCrosses > 8;'''\nresult = connection.execute(mySQL)\n\nprint(len(result.fetchall()))",
   "execution_count": 13,
   "outputs": [
    {
     "output_type": "stream",
     "text": "14\n",
     "name": "stdout"
    }
   ]
  },
  {
   "metadata": {
    "trusted": true
   },
   "cell_type": "code",
   "source": "# look at the data_sources table\nmySQL = '''\n    SELECT Treatment,\n        LineCrosses,\n        Active,\n        TimetoReact,\n        ReactionType,\n        InkDischarge,\n        BodyPattern \n    FROM spady_defense\n    WHERE Treatment <> 'Mid' and LineCrosses > 8\n    ORDER BY LineCrosses;'''\nresult = connection.execute(mySQL)\n\nfor line in result:\n    print(line[:])",
   "execution_count": 14,
   "outputs": [
    {
     "output_type": "stream",
     "text": "('High', 35, 'high activity', 'n/a', 'n/a', 'n/a', 'deimatic')\n('High', 48, 'high activity', '0.46666667', 'jet', 'yes', 'transparent')\n('High', 49, 'high activity', 'n/a', 'n/a', 'n/a', 'n/a')\n('Control', 65, 'high activity', 'n/a', 'n/a', 'n/a', 'n/a')\n('Control', 66, 'high activity', '0.66666667', 'defence', 'no', 'deimatic')\n('High', 67, 'high activity', '0.2', 'jet', 'yes', 'transparent')\n('High', 79, 'high activity', 'n/a', 'n/a', 'n/a', 'n/a')\n('High', 102, 'high activity', 'n/a', 'n/a', 'n/a', 'n/a')\n('High', 117, 'high activity', '0.8', 'defence', 'no', 'no change')\n('High', 119, 'high activity', 'n/a', 'n/a', 'n/a', 'n/a')\n('Control', 136, 'high activity', 'n/a', 'n/a', 'n/a', 'n/a')\n('High', 137, 'high activity', 'n/a', 'n/a', 'n/a', 'n/a')\n('High', 287, 'high activity', '0.5', 'defence', 'no', 'no change')\n('High', 445, 'high activity', 'n/a', 'n/a', 'n/a', 'no change')\n",
     "name": "stdout"
    }
   ]
  },
  {
   "metadata": {
    "trusted": true
   },
   "cell_type": "code",
   "source": "# look at the data_sources table\nmySQL = '''\n    SELECT Treatment,\n        Active,\n        avg(LineCrosses) as AverageLineCrosses,\n        count(LineCrosses) as CountLineCrosses\n    FROM spady_defense\n    GROUP BY Treatment, Active\n        '''\nresult = connection.execute(mySQL)\nfor line in result:\n    print(line[:])",
   "execution_count": 27,
   "outputs": [
    {
     "output_type": "stream",
     "text": "('Control', 'high activity', 89.0, 3)\n('Control', 'low activity', 4.666666666666667, 3)\n('Control', 'rest', 0.0, 25)\n('High', 'high activity', 135.0, 11)\n('High', 'rest', 0.0, 18)\n('Mid', 'high activity', 176.88888888888889, 9)\n('Mid', 'low activity', 15.0, 3)\n('Mid', 'rest', 0.0, 15)\n",
     "name": "stdout"
    }
   ]
  },
  {
   "metadata": {
    "trusted": true
   },
   "cell_type": "code",
   "source": "mySQL = '''\n    SELECT \n        sd.Treatment,\n        sd.Active,\n        sdt.pH,\n        avg(sd.LineCrosses) as AverageLineCrosses\n    FROM spady_defense sd\n        INNER JOIN spady_defense_treatments sdt\n            on sd.Treatment = sdt.treatment\n    GROUP BY sd.Treatment, sd.Active, sdt.ph\n        '''\nresult = connection.execute(mySQL)\nfor line in result:\n    print(line[:])",
   "execution_count": 45,
   "outputs": [
    {
     "output_type": "stream",
     "text": "('High', 'high activity', 7.83, 135.0)\n('High', 'rest', 7.83, 0.0)\n('Mid', 'high activity', 7.99, 176.88888888888889)\n('Mid', 'low activity', 7.99, 15.0)\n('Mid', 'rest', 7.99, 0.0)\n",
     "name": "stdout"
    }
   ]
  },
  {
   "metadata": {
    "trusted": true
   },
   "cell_type": "code",
   "source": "",
   "execution_count": null,
   "outputs": []
  }
 ],
 "metadata": {
  "language_info": {
   "mimetype": "text/x-python",
   "nbconvert_exporter": "python",
   "name": "python",
   "pygments_lexer": "ipython3",
   "version": "3.5.4",
   "file_extension": ".py",
   "codemirror_mode": {
    "version": 3,
    "name": "ipython"
   }
  },
  "kernelspec": {
   "name": "python3",
   "display_name": "Python 3",
   "language": "python"
  },
  "pycharm": {
   "stem_cell": {
    "cell_type": "raw",
    "source": [],
    "metadata": {
     "collapsed": false
    }
   }
  }
 },
 "nbformat": 4,
 "nbformat_minor": 2
}